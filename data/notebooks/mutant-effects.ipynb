{
 "cells": [
  {
   "cell_type": "code",
   "execution_count": 2,
   "metadata": {},
   "outputs": [],
   "source": [
    "import pandas as pd"
   ]
  },
  {
   "cell_type": "code",
   "execution_count": 3,
   "metadata": {},
   "outputs": [],
   "source": [
    "TIM1_func_effects = pd.read_csv('../../results/func_effects/averages/HEK293T-TIM1_entry_func_effects.csv')\n",
    "TIM1_func_effects[\"condition\"] = 'TIM1'\n",
    "MXRA8_func_effects = pd.read_csv('../../results/func_effects/averages/HEK293T-Mxra8_entry_func_effects.csv')\n",
    "MXRA8_func_effects[\"condition\"] = 'MXRA8'\n",
    "C636_func_effects = pd.read_csv('../../results/func_effects/averages/C636_entry_libB_func_effects.csv')\n",
    "C636_func_effects[\"condition\"] = 'C636'"
   ]
  },
  {
   "cell_type": "code",
   "execution_count": 4,
   "metadata": {},
   "outputs": [
    {
     "data": {
      "text/html": [
       "<div>\n",
       "<style scoped>\n",
       "    .dataframe tbody tr th:only-of-type {\n",
       "        vertical-align: middle;\n",
       "    }\n",
       "\n",
       "    .dataframe tbody tr th {\n",
       "        vertical-align: top;\n",
       "    }\n",
       "\n",
       "    .dataframe thead th {\n",
       "        text-align: right;\n",
       "    }\n",
       "</style>\n",
       "<table border=\"1\" class=\"dataframe\">\n",
       "  <thead>\n",
       "    <tr style=\"text-align: right;\">\n",
       "      <th></th>\n",
       "      <th>site</th>\n",
       "      <th>wildtype</th>\n",
       "      <th>mutant</th>\n",
       "      <th>effect</th>\n",
       "      <th>effect_std</th>\n",
       "      <th>times_seen</th>\n",
       "      <th>n_selections</th>\n",
       "      <th>condition</th>\n",
       "    </tr>\n",
       "  </thead>\n",
       "  <tbody>\n",
       "    <tr>\n",
       "      <th>0</th>\n",
       "      <td>1</td>\n",
       "      <td>M</td>\n",
       "      <td>I</td>\n",
       "      <td>-5.6600</td>\n",
       "      <td>0.06106</td>\n",
       "      <td>17.62</td>\n",
       "      <td>8</td>\n",
       "      <td>TIM1</td>\n",
       "    </tr>\n",
       "    <tr>\n",
       "      <th>1</th>\n",
       "      <td>1</td>\n",
       "      <td>M</td>\n",
       "      <td>K</td>\n",
       "      <td>-5.3230</td>\n",
       "      <td>0.01909</td>\n",
       "      <td>1.00</td>\n",
       "      <td>2</td>\n",
       "      <td>TIM1</td>\n",
       "    </tr>\n",
       "    <tr>\n",
       "      <th>2</th>\n",
       "      <td>1</td>\n",
       "      <td>M</td>\n",
       "      <td>L</td>\n",
       "      <td>-0.1284</td>\n",
       "      <td>0.98050</td>\n",
       "      <td>1.00</td>\n",
       "      <td>4</td>\n",
       "      <td>TIM1</td>\n",
       "    </tr>\n",
       "    <tr>\n",
       "      <th>3</th>\n",
       "      <td>1</td>\n",
       "      <td>M</td>\n",
       "      <td>M</td>\n",
       "      <td>0.0000</td>\n",
       "      <td>0.00000</td>\n",
       "      <td>NaN</td>\n",
       "      <td>8</td>\n",
       "      <td>TIM1</td>\n",
       "    </tr>\n",
       "    <tr>\n",
       "      <th>4</th>\n",
       "      <td>1</td>\n",
       "      <td>M</td>\n",
       "      <td>R</td>\n",
       "      <td>-2.8370</td>\n",
       "      <td>0.64490</td>\n",
       "      <td>1.00</td>\n",
       "      <td>2</td>\n",
       "      <td>TIM1</td>\n",
       "    </tr>\n",
       "  </tbody>\n",
       "</table>\n",
       "</div>"
      ],
      "text/plain": [
       "   site wildtype mutant  effect  effect_std  times_seen  n_selections  \\\n",
       "0     1        M      I -5.6600     0.06106       17.62             8   \n",
       "1     1        M      K -5.3230     0.01909        1.00             2   \n",
       "2     1        M      L -0.1284     0.98050        1.00             4   \n",
       "3     1        M      M  0.0000     0.00000         NaN             8   \n",
       "4     1        M      R -2.8370     0.64490        1.00             2   \n",
       "\n",
       "  condition  \n",
       "0      TIM1  \n",
       "1      TIM1  \n",
       "2      TIM1  \n",
       "3      TIM1  \n",
       "4      TIM1  "
      ]
     },
     "execution_count": 4,
     "metadata": {},
     "output_type": "execute_result"
    }
   ],
   "source": [
    "# Join the dataframes into one with pd.concat\n",
    "all_func_effects = pd.concat([TIM1_func_effects, MXRA8_func_effects, C636_func_effects])\n",
    "all_func_effects.head()"
   ]
  },
  {
   "cell_type": "code",
   "execution_count": null,
   "metadata": {},
   "outputs": [],
   "source": []
  }
 ],
 "metadata": {
  "kernelspec": {
   "display_name": "dms-vep-pipeline-3",
   "language": "python",
   "name": "python3"
  },
  "language_info": {
   "codemirror_mode": {
    "name": "ipython",
    "version": 3
   },
   "file_extension": ".py",
   "mimetype": "text/x-python",
   "name": "python",
   "nbconvert_exporter": "python",
   "pygments_lexer": "ipython3",
   "version": "3.11.9"
  }
 },
 "nbformat": 4,
 "nbformat_minor": 2
}
