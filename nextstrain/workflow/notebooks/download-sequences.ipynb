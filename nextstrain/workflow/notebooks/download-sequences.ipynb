{
 "cells": [
  {
   "cell_type": "code",
   "execution_count": 1,
   "metadata": {},
   "outputs": [],
   "source": [
    "import pandas as pd"
   ]
  },
  {
   "cell_type": "markdown",
   "metadata": {},
   "source": [
    "There's already a reasonably complete tree of CHIKV sequences on Nextstrain (last updated in 2023). There are ~1000 sequences in the tree. However, there are ~8000 sequences on Genbank. Most of these might be incomplete."
   ]
  },
  {
   "cell_type": "code",
   "execution_count": 2,
   "metadata": {},
   "outputs": [],
   "source": [
    "all_sequences_df = pd.read_csv('../../data/sequences.acc', header=None, names=['accession'])\n",
    "vienna_sequences_df = pd.read_csv('../../data/ViennaRNA_CHIKV_metadata.tsv', sep='\\t').drop('accession', axis=1).rename(columns={'strain': 'accession'})"
   ]
  },
  {
   "cell_type": "code",
   "execution_count": 3,
   "metadata": {},
   "outputs": [
    {
     "name": "stdout",
     "output_type": "stream",
     "text": [
      "There are 8366 unique accessions in all_sequences_df.\n",
      "There are 1398 unique accessions in vienna_sequences_df.\n",
      "100.0% of the Vienna accessions are present in all_sequences_df.\n",
      "The library strain is in the vienna dataset: True\n"
     ]
    }
   ],
   "source": [
    "library_accession = \"MW473668.1\"\n",
    "all_accessions = all_sequences_df.accession.unique()\n",
    "vienna_accessions = vienna_sequences_df.accession.unique()\n",
    "print(f\"There are {len(all_accessions)} unique accessions in all_sequences_df.\")\n",
    "print(f\"There are {len(vienna_accessions)} unique accessions in vienna_sequences_df.\")\n",
    "print(f\"{(len(set(vienna_accessions) & set(all_accessions)) / len(set(vienna_accessions)) * 100)}% of the Vienna accessions are present in all_sequences_df.\")\n",
    "print(f\"The library strain is in the vienna dataset: {library_accession in vienna_accessions}\")"
   ]
  }
 ],
 "metadata": {
  "kernelspec": {
   "display_name": "nextstrain",
   "language": "python",
   "name": "python3"
  },
  "language_info": {
   "codemirror_mode": {
    "name": "ipython",
    "version": 3
   },
   "file_extension": ".py",
   "mimetype": "text/x-python",
   "name": "python",
   "nbconvert_exporter": "python",
   "pygments_lexer": "ipython3",
   "version": "3.11.11"
  }
 },
 "nbformat": 4,
 "nbformat_minor": 2
}
