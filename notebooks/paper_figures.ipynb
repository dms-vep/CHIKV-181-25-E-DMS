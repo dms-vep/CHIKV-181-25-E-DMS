{
 "cells": [
  {
   "cell_type": "markdown",
   "id": "91dc765f-f577-4ad1-a8eb-4e2c26a677cd",
   "metadata": {},
   "source": [
    "# Make some paper figures\n",
    "\n",
    "The next cell is tagged `parameters` for papermill parameterization:"
   ]
  },
  {
   "cell_type": "code",
   "execution_count": null,
   "id": "e0fcb7b8-f3d8-4b14-9382-31b8ca2c3268",
   "metadata": {
    "editable": true,
    "slideshow": {
     "slide_type": ""
    },
    "tags": [
     "parameters"
    ]
   },
   "outputs": [],
   "source": [
    "# tagged parameters for `papermill`"
   ]
  },
  {
   "cell_type": "markdown",
   "id": "33a22bd2-0c68-4841-a52b-5256f9fd9710",
   "metadata": {
    "editable": true,
    "slideshow": {
     "slide_type": ""
    },
    "tags": []
   },
   "source": [
    "Python imports:"
   ]
  },
  {
   "cell_type": "code",
   "execution_count": null,
   "id": "f940c152-696d-4c67-85a5-3f5f94c74beb",
   "metadata": {
    "editable": true,
    "slideshow": {
     "slide_type": ""
    },
    "tags": []
   },
   "outputs": [],
   "source": [
    "import os\n",
    "\n",
    "import altair as alt\n",
    "\n",
    "import dms_variants.codonvarianttable\n",
    "\n",
    "import numpy\n",
    "\n",
    "import pandas as pd\n",
    "\n",
    "import scipy.stats\n",
    "\n",
    "_ = alt.data_transformers.disable_max_rows()"
   ]
  },
  {
   "cell_type": "markdown",
   "id": "362786c2-82f5-47e2-9192-36b898491d0c",
   "metadata": {},
   "source": [
    "## Distribution of variant functional scores\n",
    "We want the distribution of variant functional scores, similar to as made by [this notebook](https://dms-vep.org/CHIKV_181-25_E_DMS/notebooks/analyze_func_scores.html) but including both E3-E2 and 6K-E1 fragments and not including deletions (since those are rare in our libraries).\n",
    "\n",
    "First read all the functional scores, ignoring those for deletions since those are rare and not reported in paper:"
   ]
  },
  {
   "cell_type": "code",
   "execution_count": null,
   "id": "8e5674c6-79bf-42ce-9d42-4344648c3ebc",
   "metadata": {},
   "outputs": [],
   "source": [
    "def classify_selection(sel):\n",
    "    sels = {\"293T-Mxra8\": \"293T-Mxra8\", \"293T-TIM1\":\"293T-TIM1\", \"C636\":\"C6/36\"}\n",
    "    assert sum(s in sel for s in sels) == 1, sel\n",
    "    for s in sels:\n",
    "        if s in sel:\n",
    "            label = [sels[s]]\n",
    "    libs = {\"-A-\": \"library A\", \"-B-\": \"library B\"}\n",
    "    assert sum(l in sel for l in libs) == 1, sel\n",
    "    for l in libs:\n",
    "        if l in sel:\n",
    "            label.append(libs[l])\n",
    "    return \" \".join(label)\n",
    "\n",
    "\n",
    "func_scores_df = (\n",
    "    pd.concat(\n",
    "        [\n",
    "            pd.read_csv(f).assign(selection=sel)\n",
    "            for (sel, f) in params.items() if sel.startswith(\"func_scores_\")\n",
    "        ]\n",
    "    )\n",
    "    .assign(selection=lambda x: x[\"selection\"].map(classify_selection))\n",
    "    .pipe(dms_variants.codonvarianttable.CodonVariantTable.classifyVariants)\n",
    "    .query(\"variant_class != 'deletion'\")\n",
    ")\n",
    "\n",
    "(\n",
    "    func_scores_df\n",
    "    .groupby([\"selection\", \"variant_class\"])\n",
    "    .aggregate(n_variants=pd.NamedAgg(\"barcode\", \"count\"))\n",
    ")"
   ]
  },
  {
   "cell_type": "markdown",
   "id": "bce79000-55a9-4937-8d94-bba2dd99d99a",
   "metadata": {},
   "source": [
    "Make the plot:"
   ]
  },
  {
   "cell_type": "code",
   "execution_count": null,
   "id": "dfd6287c-cbb7-42f8-98c7-279df385bb95",
   "metadata": {},
   "outputs": [],
   "source": [
    "def ridgeplot(df):\n",
    "    variant_classes = list(\n",
    "        reversed(\n",
    "            [\n",
    "                c\n",
    "                for c in [\n",
    "                    \"wildtype\",\n",
    "                    \"synonymous\",\n",
    "                    \"1 nonsynonymous\",\n",
    "                    \">1 nonsynonymous\",\n",
    "                    \"deletion\",\n",
    "                    \"stop\",\n",
    "                ]\n",
    "                if c in set(df[\"variant_class\"])\n",
    "            ]\n",
    "        )\n",
    "    )\n",
    "\n",
    "    assert set(df[\"variant_class\"]) == set(variant_classes)\n",
    "\n",
    "    # get smoothed distribution of functional scores\n",
    "    bins = numpy.linspace(\n",
    "        df[\"func_score\"].min(),\n",
    "        df[\"func_score\"].max(),\n",
    "        num=50,\n",
    "    )\n",
    "    smoothed_dist = pd.concat(\n",
    "        [\n",
    "            pd.DataFrame(\n",
    "                {\n",
    "                    \"selection\": sel,\n",
    "                    \"variant_class\": var,\n",
    "                    \"func_score\": bins,\n",
    "                    \"count\": scipy.stats.gaussian_kde(df[\"func_score\"])(bins),\n",
    "                    \"mean_func_score\": df[\"func_score\"].mean(),\n",
    "                    \"number of variants\": len(df),\n",
    "                }\n",
    "            )\n",
    "            for (sel, var), df in df.groupby([\"selection\", \"variant_class\"])\n",
    "        ]\n",
    "    )\n",
    "\n",
    "    # assign y / y2 for plotting\n",
    "    facet_overlap = 0.7  # maximal facet overlap\n",
    "    max_count = (smoothed_dist[\"count\"]).max()\n",
    "    smoothed_dist = smoothed_dist.assign(\n",
    "        y=lambda x: x[\"variant_class\"].map(lambda v: variant_classes.index(v)),\n",
    "        y2=lambda x: x[\"y\"] + x[\"count\"] / max_count / facet_overlap,\n",
    "    )\n",
    "\n",
    "    # ridgeline plot, based on this but using y / y2 rather than row:\n",
    "    # https://altair-viz.github.io/gallery/ridgeline_plot.html\n",
    "    ridgeline_chart = (\n",
    "        alt.Chart(smoothed_dist)\n",
    "        .encode(\n",
    "            x=alt.X(\n",
    "                \"func_score\", title=\"functional score for cell entry\", scale=alt.Scale(nice=False)\n",
    "            ),\n",
    "            y=alt.Y(\n",
    "                \"y\",\n",
    "                scale=alt.Scale(nice=False),\n",
    "                title=None,\n",
    "                axis=alt.Axis(\n",
    "                    ticks=False,\n",
    "                    domain=False,\n",
    "                    # set manual labels https://stackoverflow.com/a/64106056\n",
    "                    values=[v + 0.5 for v in range(len(variant_classes))],\n",
    "                    labelExpr=f\"{str(variant_classes)}[round(datum.value - 0.5)]\",\n",
    "                ),\n",
    "            ),\n",
    "            y2=alt.Y2(\"y2\"),\n",
    "            fill=alt.Fill(\n",
    "                \"mean_func_score:Q\",\n",
    "                title=\"mean functional score\",\n",
    "                legend=alt.Legend(direction=\"horizontal\"),\n",
    "                scale=alt.Scale(scheme=\"yellowgreenblue\"),\n",
    "            ),\n",
    "            facet=alt.Facet(\n",
    "                \"selection\",\n",
    "                columns=2,\n",
    "                title=None,\n",
    "                header=alt.Header(\n",
    "                    labelFontWeight=\"bold\",\n",
    "                    labelPadding=0,\n",
    "                ),\n",
    "            ),\n",
    "            tooltip=[\n",
    "                \"selection\",\n",
    "                \"variant_class\",\n",
    "                alt.Tooltip(\n",
    "                    \"mean_func_score\", format=\".2f\", title=\"mean functional score\"\n",
    "                ),\n",
    "            ],\n",
    "        )\n",
    "        .mark_area(\n",
    "            interpolate=\"monotone\",\n",
    "            smooth=True,\n",
    "            fillOpacity=0.8,\n",
    "            stroke=\"lightgray\",\n",
    "            strokeWidth=0.5,\n",
    "        )\n",
    "        .configure_view(stroke=None)\n",
    "        .configure_axis(grid=False)\n",
    "        .properties(width=180, height=22 * len(variant_classes))\n",
    "    )\n",
    "\n",
    "    ridgeline_chart = ridgeline_chart.properties(\n",
    "        autosize=alt.AutoSizeParams(resize=True),\n",
    "    )\n",
    "\n",
    "    return ridgeline_chart\n",
    "\n",
    "\n",
    "func_scores_chart = ridgeplot(func_scores_df)\n",
    "\n",
    "func_scores_chart"
   ]
  },
  {
   "cell_type": "code",
   "execution_count": null,
   "id": "09dcca00-92c1-4e6c-b7ba-077238af5ad3",
   "metadata": {},
   "outputs": [],
   "source": []
  }
 ],
 "metadata": {
  "kernelspec": {
   "display_name": "Python 3 (ipykernel)",
   "language": "python",
   "name": "python3"
  },
  "language_info": {
   "codemirror_mode": {
    "name": "ipython",
    "version": 3
   },
   "file_extension": ".py",
   "mimetype": "text/x-python",
   "name": "python",
   "nbconvert_exporter": "python",
   "pygments_lexer": "ipython3",
   "version": "3.12.8"
  }
 },
 "nbformat": 4,
 "nbformat_minor": 5
}
