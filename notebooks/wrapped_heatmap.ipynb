{
 "cells": [
  {
   "cell_type": "markdown",
   "id": "a616ff59-8358-45c1-8c35-87fbae29d675",
   "metadata": {},
   "source": [
    "# Make a wrapped heatmap with multiple rows\n",
    "This notebook makes wrapped heatmaps with multiple rows, designed for use as paper figures."
   ]
  },
  {
   "cell_type": "code",
   "execution_count": null,
   "id": "42e0d6c9-4481-478f-bd7b-5f0974b1169e",
   "metadata": {},
   "outputs": [],
   "source": [
    "import altair as alt\n",
    "\n",
    "import pandas as pd\n",
    "\n",
    "_ = alt.data_transformers.disable_max_rows()"
   ]
  },
  {
   "cell_type": "markdown",
   "id": "5cbc54b1-e592-4a04-9954-7be9600fa88e",
   "metadata": {},
   "source": [
    "## Get configuration parameters"
   ]
  },
  {
   "cell_type": "markdown",
   "id": "49f7c160-65ac-4023-bb51-d21ffc56a94c",
   "metadata": {},
   "source": [
    "The next cell is tagged as `parameters` for `papermill` parameterization:"
   ]
  },
  {
   "cell_type": "code",
   "execution_count": null,
   "id": "48308e90-bd88-4e79-8024-b3a86a5c0224",
   "metadata": {
    "editable": true,
    "slideshow": {
     "slide_type": ""
    },
    "tags": [
     "parameters"
    ]
   },
   "outputs": [],
   "source": [
    "# cell with expected parameters, all set to None but will be parameterized by papermill\n",
    "data_csv = None\n",
    "title = None\n",
    "effect_col = None\n",
    "data_query_str = None\n",
    "sites_per_row = None\n",
    "site_label_freq = None\n",
    "color_scheme = None\n",
    "fixed_min = None\n",
    "fixed_max = None\n",
    "alphabet = None\n",
    "chart_html = None"
   ]
  },
  {
   "cell_type": "markdown",
   "id": "c24ea151-1b5b-4a2b-9302-dd9078698acd",
   "metadata": {},
   "source": [
    "## Read the input data"
   ]
  },
  {
   "cell_type": "code",
   "execution_count": null,
   "id": "83339343-dce2-48c9-9422-e19bcdc21a20",
   "metadata": {},
   "outputs": [],
   "source": [
    "if isinstance(alphabet, str):\n",
    "    alphabet = list(alphabet)\n",
    "\n",
    "data = pd.read_csv(data_csv, dtype={\"site\": str})\n",
    "print(f\"Read {len(data)=} with {data.columns=}\")\n",
    "\n",
    "if data_query_str:\n",
    "    data = data.query(data_query_str).reset_index(drop=True)\n",
    "    print(f\"After querying with {data_query_str=}, {len(data)=}\")\n",
    "    \n",
    "req_cols = [\"site\", \"sequential_site\", \"wildtype\", \"mutant\", effect_col]\n",
    "assert set(req_cols).issubset(data.columns), f\"{data.columns=} lacks {req_cols=}\"\n",
    "\n",
    "data = data[data[\"mutant\"].isin(alphabet) & data[\"wildtype\"].isin(alphabet)].reset_index(drop=True)\n",
    "print(f\"After getting just amino acids of {alphabet=}, {len(data)=}\")\n",
    "\n",
    "data = data[req_cols]\n",
    "assert len(data) == len(data.groupby([\"site\", \"wildtype\", \"mutant\"]))"
   ]
  },
  {
   "cell_type": "code",
   "execution_count": null,
   "id": "16b5c852-2c22-4175-a2c1-4aedeae822c1",
   "metadata": {},
   "outputs": [],
   "source": [
    "data = data.assign(row=lambda x: x[\"site\"].str.contains(\"E1\").astype(int))\n",
    "\n",
    "heatmap_base = (\n",
    "    alt.Chart(data)\n",
    "    .encode(alt.Y(\"mutant\", sort=alphabet, title=\"amino acid\"))\n",
    "    .properties(width=alt.Step(9), height=alt.Step(9))\n",
    ")\n",
    "\n",
    "heatmap_bg = heatmap_base.transform_impute(\n",
    "    impute=\"_stat_dummy\",\n",
    "    key=\"mutant\",\n",
    "    keyvals=alphabet,\n",
    "    groupby=[\"site\"],\n",
    "    value=None,\n",
    ").mark_rect(color=\"#E0E0E0\", opacity=0.8)\n",
    "\n",
    "heatmap_wildtype = (\n",
    "    heatmap_base\n",
    "    .transform_filter(alt.datum[\"wildtype\"] == alt.datum[\"mutant\"])\n",
    "    .mark_text(text=\"x\", color=\"black\")\n",
    ")\n",
    "\n",
    "heatmap_muts = (\n",
    "    heatmap_base\n",
    "    .encode(\n",
    "        alt.Color(\n",
    "            effect_col,\n",
    "            scale=alt.Scale(\n",
    "                scheme=color_scheme,\n",
    "                domainMid=0,\n",
    "                domainMin=fixed_min,\n",
    "                domainMax=fixed_max,\n",
    "                clamp=True,\n",
    "            ),\n",
    "        ),\n",
    "        tooltip=[\"site\", \"mutant\", \"wildtype\", alt.Tooltip(effect_col, format=\".2f\")],\n",
    "    )\n",
    "    .mark_rect(stroke=\"black\", opacity=1, strokeOpacity=1)\n",
    ")\n",
    "\n",
    "heatmap_rows = []\n",
    "sequential_sites = sorted(data[\"sequential_site\"].unique())\n",
    "for i in range(0, len(sequential_sites), sites_per_row):\n",
    "    row_sites = sequential_sites[i: i + sites_per_row]\n",
    "    last_row = row_sites[-1] == sequential_sites[-1]\n",
    "    sequential_to_site = data.set_index(\"sequential_site\")[\"site\"].to_dict()\n",
    "    # some complicated stuff is needed to label only some of the sites if site not int\n",
    "    to_label_values = [\n",
    "        sequential_to_site[i]\n",
    "        for i in range(row_sites[0], row_sites[-1], site_label_freq)\n",
    "    ]\n",
    "    heatmap_rows.append(\n",
    "        (heatmap_bg + heatmap_muts + heatmap_wildtype)\n",
    "        .encode(\n",
    "            alt.X(\n",
    "                \"site:N\",\n",
    "                title=\"site\" if last_row else None,\n",
    "                sort=alt.SortField(\"sequential_site\"),\n",
    "                scale=alt.Scale(nice=False, zero=False),\n",
    "                axis=alt.Axis(values=to_label_values, labelAngle=0)\n",
    "            ),\n",
    "        )\n",
    "        .transform_filter(\n",
    "            (alt.datum[\"sequential_site\"] >= min(row_sites))\n",
    "            & (alt.datum[\"sequential_site\"] <= max(row_sites))\n",
    "        )\n",
    "    )\n",
    "\n",
    "heatmap = (\n",
    "    alt.vconcat(*heatmap_rows, spacing=6)\n",
    "    .configure_axis(tickColor=\"black\", tickSize=4, titleFontSize=16)\n",
    "    .configure_legend(\n",
    "        orient=\"bottom\",\n",
    "        gradientStrokeWidth=1,\n",
    "        gradientStrokeColor=\"black\",\n",
    "        titleAnchor=\"middle\",\n",
    "        titleFontSize=16,\n",
    "        titleLimit=200,\n",
    "    )\n",
    "    .properties(title=title)\n",
    "    .configure_title(anchor=\"middle\", fontSize=18)\n",
    ")\n",
    "\n",
    "print(f\"Saving {chart_html=}\")\n",
    "heatmap.save(chart_html)\n",
    "\n",
    "heatmap"
   ]
  }
 ],
 "metadata": {
  "kernelspec": {
   "display_name": "Python 3 (ipykernel)",
   "language": "python",
   "name": "python3"
  },
  "language_info": {
   "codemirror_mode": {
    "name": "ipython",
    "version": 3
   },
   "file_extension": ".py",
   "mimetype": "text/x-python",
   "name": "python",
   "nbconvert_exporter": "python",
   "pygments_lexer": "ipython3",
   "version": "3.12.8"
  }
 },
 "nbformat": 4,
 "nbformat_minor": 5
}
