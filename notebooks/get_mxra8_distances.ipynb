{
 "cells": [
  {
   "cell_type": "markdown",
   "id": "df94ac9a-bf11-498b-991f-bcb3c3a882b5",
   "metadata": {
    "editable": true,
    "slideshow": {
     "slide_type": ""
    },
    "tags": []
   },
   "source": [
    "# Get the distances of residues from Mxra8 in the structure"
   ]
  },
  {
   "cell_type": "code",
   "execution_count": null,
   "id": "786d6987-9d3e-40dd-85aa-d7f90a141a8d",
   "metadata": {
    "editable": true,
    "slideshow": {
     "slide_type": ""
    },
    "tags": [
     "parameters"
    ]
   },
   "outputs": [],
   "source": [
    "# this cell is tagged parameters for `papermill` parameterization\n",
    "addtl_site_annotations_csv = \"../data/addtl_site_annotations.csv\"\n",
    "dists_csv = \"../results/mxra8_distances/mxra8_dists.csv\"\n",
    "\n",
    "chain_defs = {\n",
    "    \"6nk7\": {\n",
    "        \"E1\": [\"A\", \"B\", \"C\", \"D\"],\n",
    "        \"E2\": [\"E\", \"F\", \"G\", \"H\"],\n",
    "        \"E3\": [\"U\", \"V\", \"W\", \"X\"],\n",
    "        \"Mxra8\": [\"N\"],\n",
    "    },\n",
    "    \"6nk6\": {\n",
    "        \"E1\": [\"A\", \"B\", \"C\", \"D\"],\n",
    "        \"E2\": [\"E\", \"F\", \"G\", \"H\"],\n",
    "        \"Mxra8\": [\"M\", \"N\", \"O\", \"P\"],\n",
    "    }\n",
    "}"
   ]
  },
  {
   "cell_type": "code",
   "execution_count": null,
   "id": "0fd9bcd0-a5c2-49e2-b4ee-824ca2aff938",
   "metadata": {
    "editable": true,
    "slideshow": {
     "slide_type": ""
    },
    "tags": []
   },
   "outputs": [],
   "source": [
    "import requests\n",
    "import tempfile\n",
    "\n",
    "import altair as alt\n",
    "\n",
    "import numpy\n",
    "\n",
    "import pandas as pd\n",
    "\n",
    "import polyclonal.pdb_utils"
   ]
  },
  {
   "cell_type": "markdown",
   "id": "d5b71a3e-9aaa-4159-b958-60b1f9f43216",
   "metadata": {},
   "source": [
    "Get distances of each chain and site from Mxra8:"
   ]
  },
  {
   "cell_type": "code",
   "execution_count": null,
   "id": "4f42b2d3-4afe-40df-acbc-f65505f472cb",
   "metadata": {
    "editable": true,
    "slideshow": {
     "slide_type": ""
    },
    "tags": []
   },
   "outputs": [],
   "source": [
    "records = []\n",
    "\n",
    "for pdb_id in chain_defs:\n",
    "\n",
    "    pdb_url = f\"https://files.rcsb.org/download/{pdb_id}.pdb\"\n",
    "    \n",
    "    print(f\"Getting PDB distances for {pdb_id=} from {pdb_url=}\")\n",
    "    r = requests.get(pdb_url)\n",
    "    \n",
    "    chain_dists = {}\n",
    "    mxra8_chains = chain_defs[pdb_id][\"Mxra8\"]\n",
    "    with tempfile.NamedTemporaryFile() as tmpf:\n",
    "        _ = tmpf.write(r.content)\n",
    "        tmpf.flush()\n",
    "        for e_prot in [\"E1\", \"E2\", \"E3\"]:\n",
    "            if e_prot in chain_defs[pdb_id]:\n",
    "                print(f\"Getting distances to {e_prot=}\")\n",
    "                chain_dists[e_prot] = polyclonal.pdb_utils.inter_residue_distances(\n",
    "                        tmpf.name, chain_defs[pdb_id][e_prot] + mxra8_chains\n",
    "                )\n",
    "                \n",
    "    for e_prot, df in chain_dists.items():\n",
    "        e_chain_ids = chain_defs[pdb_id][e_prot]\n",
    "        for site_1, site_2, d, chain_1, chain_2 in df[\n",
    "            [\"site_1\", \"site_2\", \"distance\", \"chain_1\", \"chain_2\"]\n",
    "        ].itertuples(index=False):\n",
    "            if chain_2 in mxra8_chains and chain_1 in e_chain_ids:\n",
    "                records.append((pdb_id, e_prot, chain_1, chain_2, site_1, site_2, d))\n",
    "            elif chain_1 in mxra8_chains and chain_2 in e_chain_ids:\n",
    "                records.append((pdb_id, e_prot, chain_2, chain_1, site_2, site_1, d))\n",
    "\n",
    "chain_dists_to_mxra8 = pd.DataFrame(\n",
    "    records, columns=[\"PDB\", \"E\", \"E_chain\", \"Mxra8_chain\", \"E_site\", \"Mxra8_site\", \"distance\"],\n",
    ")"
   ]
  },
  {
   "cell_type": "markdown",
   "id": "377477ef-5c36-48df-b90f-2668682b057b",
   "metadata": {},
   "source": [
    "Get closest residues to Mxra8 for each chain in each PDB:"
   ]
  },
  {
   "cell_type": "code",
   "execution_count": null,
   "id": "792cf037-8106-4e12-b9fc-ad56c3e9cba6",
   "metadata": {},
   "outputs": [],
   "source": [
    "closest_dists = (\n",
    "    chain_dists_to_mxra8\n",
    "    .sort_values(\"distance\")\n",
    "    .groupby([\"PDB\", \"E\", \"E_site\"], as_index=False)\n",
    "    .first()\n",
    "    [[\"PDB\", \"E\", \"E_site\", \"distance\", \"E_chain\", \"Mxra8_chain\", \"Mxra8_site\"]]\n",
    "    .rename(\n",
    "        columns={\n",
    "            \"E\": \"region\",\n",
    "            \"E_site\": \"site\",\n",
    "            \"E_chain\": f\"E_{pdb_id}_chain\",\n",
    "            \"Mxra8_chain\": f\"Mxra8_{pdb_id}_chain\",\n",
    "            \"distance\": \"distance_to_Mxra8\",\n",
    "        }\n",
    "    )\n",
    ")\n",
    "\n",
    "print(f\"Writing to {dists_csv=}\")\n",
    "closest_dists.to_csv(dists_csv, index=False, float_format=\"%.1f\")\n",
    "\n",
    "closest_dists"
   ]
  },
  {
   "cell_type": "markdown",
   "id": "259c841e-6965-4457-82fa-88b3088083d8",
   "metadata": {},
   "source": [
    "Add in additional site annotations, which includes contacts as defined by [Basore et al](https://www.cell.com/cell/fulltext/S0092-8674(19)30392-7?sf214631088=1):"
   ]
  },
  {
   "cell_type": "code",
   "execution_count": null,
   "id": "b247a5a1-2873-4652-a1d7-801a52b0d5a0",
   "metadata": {},
   "outputs": [],
   "source": [
    "closest_dists = closest_dists.merge(\n",
    "    (\n",
    "        pd.read_csv(addtl_site_annotations_csv)\n",
    "        .rename(columns={\"protein_site\": \"site\", \"contacts\": \"Basore_contact\"})\n",
    "        [[\"region\", \"site\", \"domain\", \"Basore_contact\"]]\n",
    "    ),\n",
    "    on=[\"region\", \"site\"],\n",
    "    validate=\"m:1\",\n",
    ")"
   ]
  },
  {
   "cell_type": "markdown",
   "id": "cb6d833f-a166-4534-92d2-fffcb16c0b47",
   "metadata": {},
   "source": [
    "Plot the distribution of distances for the different contact types:"
   ]
  },
  {
   "cell_type": "code",
   "execution_count": null,
   "id": "fc35817c-8226-4b8f-90af-9caff8e6b334",
   "metadata": {},
   "outputs": [],
   "source": [
    "numpy.random.seed(1)\n",
    "\n",
    "site_selection = alt.selection_point(\n",
    "    on=\"mouseover\", empty=False, fields=[\"region\", \"site\"],\n",
    ")\n",
    "\n",
    "(\n",
    "    alt.Chart(\n",
    "        closest_dists.assign(\n",
    "            jitter=lambda x: numpy.random.uniform(-0.5, 0.5, size=len(x))\n",
    "        )\n",
    "    )\n",
    "    .add_params(site_selection)\n",
    "    .encode(\n",
    "        alt.X(\"distance_to_Mxra8\", scale=alt.Scale(domain=[0, 20], clamp=True)),\n",
    "        alt.Y(\"Basore_contact\"),\n",
    "        alt.YOffset(\"jitter\", scale=alt.Scale(domain=[-1, 1])),\n",
    "        alt.Color(\"region\"),\n",
    "        alt.Row(\"PDB\", header=alt.Header(orient=\"top\", labelFontSize=14), title=None),\n",
    "        tooltip=[\"site\", \"region\", alt.Tooltip(\"distance_to_Mxra8\", format=\".1f\")],\n",
    "        size=alt.condition(site_selection, alt.value(100), alt.value(35)),\n",
    "        strokeWidth=alt.condition(site_selection, alt.value(4), alt.value(0.5)),\n",
    "        fillOpacity=alt.condition(site_selection, alt.value(1), alt.value(0.5)),\n",
    "    )\n",
    "    .mark_circle(stroke=\"black\")\n",
    "    .properties(height=alt.Step(40))\n",
    ")"
   ]
  },
  {
   "cell_type": "code",
   "execution_count": null,
   "id": "b2df1a67-b333-43fb-b8bb-62f10ab78451",
   "metadata": {},
   "outputs": [],
   "source": []
  }
 ],
 "metadata": {
  "kernelspec": {
   "display_name": "Python 3 (ipykernel)",
   "language": "python",
   "name": "python3"
  },
  "language_info": {
   "codemirror_mode": {
    "name": "ipython",
    "version": 3
   },
   "file_extension": ".py",
   "mimetype": "text/x-python",
   "name": "python",
   "nbconvert_exporter": "python",
   "pygments_lexer": "ipython3",
   "version": "3.12.8"
  }
 },
 "nbformat": 4,
 "nbformat_minor": 5
}
