{
 "cells": [
  {
   "cell_type": "markdown",
   "id": "42968aaa-9f29-4eca-af7f-d90ed6d5e394",
   "metadata": {},
   "source": [
    "# Get CSV with differences in entry for mutations between cells after flooring\n",
    "\n",
    "Import Python modules:"
   ]
  },
  {
   "cell_type": "code",
   "execution_count": null,
   "id": "0a6f0169-025e-4789-a458-352769436d7e",
   "metadata": {},
   "outputs": [],
   "source": [
    "import itertools\n",
    "\n",
    "import pandas as pd"
   ]
  },
  {
   "cell_type": "markdown",
   "id": "175666f1-5deb-4b1b-bae9-e7e37c4497e1",
   "metadata": {},
   "source": [
    "This next cell is tagged `parameters` for papermill parameterization:"
   ]
  },
  {
   "cell_type": "code",
   "execution_count": null,
   "id": "538424f2-212b-4ea8-a38c-6c4759e4fedd",
   "metadata": {
    "editable": true,
    "slideshow": {
     "slide_type": ""
    },
    "tags": [
     "parameters"
    ]
   },
   "outputs": [],
   "source": [
    "# tagged as `parameters`\n",
    "\n",
    "mut_effects_csv = None\n",
    "mut_diffs_csv = None\n",
    "cells = None\n",
    "floor_mut_effects = None"
   ]
  },
  {
   "cell_type": "markdown",
   "id": "0b5fd99b-ea0a-4c59-99c2-d5cf8e782f8e",
   "metadata": {},
   "source": [
    "Compute differences with flooring and write to file:"
   ]
  },
  {
   "cell_type": "code",
   "execution_count": null,
   "id": "037b4a75-8d6a-45f5-8fec-a6f3159be3a9",
   "metadata": {
    "editable": true,
    "slideshow": {
     "slide_type": ""
    },
    "tags": []
   },
   "outputs": [],
   "source": [
    "df = (\n",
    "    pd.read_csv(mut_effects_csv)\n",
    "    .rename(columns={f\"entry in {c} cells\": c for c in cells})\n",
    "    [[\"site\", \"sequential_site\", \"mutant\", \"wildtype\", \"region\", *cells]]\n",
    "    .sort_values(\"sequential_site\")\n",
    "    .reset_index(drop=True)\n",
    ")\n",
    "\n",
    "for cell1, cell2 in itertools.combinations(cells, 2):\n",
    "    df[f\"{cell1} minus {cell2}\"] = (\n",
    "        df[cell1].clip(lower=floor_mut_effects)\n",
    "        - df[cell2].clip(lower=floor_mut_effects)\n",
    "    )\n",
    "\n",
    "df.to_csv(mut_diffs_csv, index=False, float_format=\"%.3f\")"
   ]
  }
 ],
 "metadata": {
  "kernelspec": {
   "display_name": "Python 3 (ipykernel)",
   "language": "python",
   "name": "python3"
  },
  "language_info": {
   "codemirror_mode": {
    "name": "ipython",
    "version": 3
   },
   "file_extension": ".py",
   "mimetype": "text/x-python",
   "name": "python",
   "nbconvert_exporter": "python",
   "pygments_lexer": "ipython3",
   "version": "3.12.8"
  }
 },
 "nbformat": 4,
 "nbformat_minor": 5
}
