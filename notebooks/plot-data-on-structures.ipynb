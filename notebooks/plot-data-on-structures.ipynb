{
 "cells": [
  {
   "cell_type": "markdown",
   "metadata": {},
   "source": [
    "# Plot data on structures\n",
    "\n",
    "The goal of this notebook is to plot the data on various CHIKV structures using [`dms-viz`](https://dms-viz.github.io/v0/). There are two structures of CHIKV in complex with Mxra8: [6JO8](https://www.rcsb.org/structure/6JO8) from [this paper](https://www.sciencedirect.com/science/article/pii/S0092867419303940?via%3Dihub), and [6NK6](https://www.rcsb.org/structure/6nk6) from [this paper](https://www.cell.com/cell/pdf/S0092-8674(19)30392-7.pdf). We'll plot the data on the monomeric and trimeric forms of both structures.\n",
    "\n",
    "[Here's](https://dms-viz.github.io/dms-viz-docs/) the documentation for `dms-viz`. Unfortunately, it's a little slow on larger structures and big datasets like this. You might have to wait a bit for your interactions to register.\n"
   ]
  },
  {
   "cell_type": "code",
   "execution_count": 2,
   "metadata": {},
   "outputs": [],
   "source": [
    "import pandas as pd\n",
    "import os\n",
    "import sys"
   ]
  },
  {
   "cell_type": "markdown",
   "metadata": {},
   "source": [
    "## Functional Scores\n",
    "\n",
    "First, combine the average functional scores——the effect of mutations on cell entry——for each cell type into a single dataset."
   ]
  },
  {
   "cell_type": "code",
   "execution_count": 3,
   "metadata": {},
   "outputs": [],
   "source": [
    "# Average *observed* effect on cell entry for each cell line\n",
    "TIM1_func_effects = pd.read_csv('../results/func_effects/averages/293T-TIM1_entry_func_effects.csv')\n",
    "TIM1_func_effects[\"condition\"] = 'TIM1'\n",
    "MXRA8_func_effects = pd.read_csv('../results/func_effects/averages/293T-Mxra8_entry_func_effects.csv')\n",
    "MXRA8_func_effects[\"condition\"] = 'MXRA8'\n",
    "C636_func_effects = pd.read_csv('../results/func_effects/averages/C636_entry_func_effects.csv')\n",
    "C636_func_effects[\"condition\"] = 'C636'"
   ]
  },
  {
   "cell_type": "code",
   "execution_count": 4,
   "metadata": {},
   "outputs": [],
   "source": [
    "# Annotations for each site in CHIKV E\n",
    "CHIKV_E_annotations = pd.read_csv('../data/site_numbering_map.csv').rename(columns={'sequential_site': 'site'})"
   ]
  },
  {
   "cell_type": "code",
   "execution_count": 5,
   "metadata": {},
   "outputs": [
    {
     "data": {
      "text/html": [
       "<div>\n",
       "<style scoped>\n",
       "    .dataframe tbody tr th:only-of-type {\n",
       "        vertical-align: middle;\n",
       "    }\n",
       "\n",
       "    .dataframe tbody tr th {\n",
       "        vertical-align: top;\n",
       "    }\n",
       "\n",
       "    .dataframe thead th {\n",
       "        text-align: right;\n",
       "    }\n",
       "</style>\n",
       "<table border=\"1\" class=\"dataframe\">\n",
       "  <thead>\n",
       "    <tr style=\"text-align: right;\">\n",
       "      <th></th>\n",
       "      <th>site</th>\n",
       "      <th>wildtype</th>\n",
       "      <th>mutant</th>\n",
       "      <th>effect</th>\n",
       "      <th>effect_std</th>\n",
       "      <th>times_seen</th>\n",
       "      <th>n_selections</th>\n",
       "      <th>condition</th>\n",
       "      <th>region</th>\n",
       "    </tr>\n",
       "  </thead>\n",
       "  <tbody>\n",
       "    <tr>\n",
       "      <th>0</th>\n",
       "      <td>1</td>\n",
       "      <td>M</td>\n",
       "      <td>I</td>\n",
       "      <td>-5.765</td>\n",
       "      <td>0.008958</td>\n",
       "      <td>17.25</td>\n",
       "      <td>4</td>\n",
       "      <td>TIM1</td>\n",
       "      <td>E3</td>\n",
       "    </tr>\n",
       "    <tr>\n",
       "      <th>1</th>\n",
       "      <td>1</td>\n",
       "      <td>M</td>\n",
       "      <td>L</td>\n",
       "      <td>-1.297</td>\n",
       "      <td>0.107500</td>\n",
       "      <td>0.50</td>\n",
       "      <td>2</td>\n",
       "      <td>TIM1</td>\n",
       "      <td>E3</td>\n",
       "    </tr>\n",
       "    <tr>\n",
       "      <th>2</th>\n",
       "      <td>1</td>\n",
       "      <td>M</td>\n",
       "      <td>M</td>\n",
       "      <td>0.000</td>\n",
       "      <td>0.000000</td>\n",
       "      <td>NaN</td>\n",
       "      <td>4</td>\n",
       "      <td>TIM1</td>\n",
       "      <td>E3</td>\n",
       "    </tr>\n",
       "    <tr>\n",
       "      <th>3</th>\n",
       "      <td>1</td>\n",
       "      <td>M</td>\n",
       "      <td>T</td>\n",
       "      <td>-5.745</td>\n",
       "      <td>0.048300</td>\n",
       "      <td>5.00</td>\n",
       "      <td>4</td>\n",
       "      <td>TIM1</td>\n",
       "      <td>E3</td>\n",
       "    </tr>\n",
       "    <tr>\n",
       "      <th>4</th>\n",
       "      <td>1</td>\n",
       "      <td>M</td>\n",
       "      <td>V</td>\n",
       "      <td>-5.748</td>\n",
       "      <td>0.012020</td>\n",
       "      <td>1.50</td>\n",
       "      <td>2</td>\n",
       "      <td>TIM1</td>\n",
       "      <td>E3</td>\n",
       "    </tr>\n",
       "  </tbody>\n",
       "</table>\n",
       "</div>"
      ],
      "text/plain": [
       "   site wildtype mutant  effect  effect_std  times_seen  n_selections  \\\n",
       "0     1        M      I  -5.765    0.008958       17.25             4   \n",
       "1     1        M      L  -1.297    0.107500        0.50             2   \n",
       "2     1        M      M   0.000    0.000000         NaN             4   \n",
       "3     1        M      T  -5.745    0.048300        5.00             4   \n",
       "4     1        M      V  -5.748    0.012020        1.50             2   \n",
       "\n",
       "  condition region  \n",
       "0      TIM1     E3  \n",
       "1      TIM1     E3  \n",
       "2      TIM1     E3  \n",
       "3      TIM1     E3  \n",
       "4      TIM1     E3  "
      ]
     },
     "execution_count": 5,
     "metadata": {},
     "output_type": "execute_result"
    }
   ],
   "source": [
    "# Combine all functional effects\n",
    "combined_func_effects = (\n",
    "    pd.concat([TIM1_func_effects, MXRA8_func_effects, C636_func_effects])\n",
    "    .merge(\n",
    "        CHIKV_E_annotations[['site', 'wildtype', 'region']], \n",
    "        on=['site', 'wildtype'],\n",
    "        how='left'\n",
    "    )\n",
    ") \n",
    "combined_func_effects.head()"
   ]
  },
  {
   "cell_type": "code",
   "execution_count": 6,
   "metadata": {},
   "outputs": [],
   "source": [
    "# Write to file\n",
    "combined_func_effects.to_csv('./dms-viz/input/combined_functional_effects.csv', index=False)"
   ]
  },
  {
   "cell_type": "markdown",
   "metadata": {},
   "source": [
    "### Make `dms-viz` JSONs\n",
    "\n",
    "Now use `configure-dms-viz` to make a `dms-viz` JSON visualization file of the functional scores on both structures."
   ]
  },
  {
   "cell_type": "markdown",
   "metadata": {},
   "source": [
    "#### [6JO8](https://www.rcsb.org/structure/6JO8) Monomer w/ Mxra8\n",
    "\n",
    "First, plot the functional scores for all three cell types on the monomeric CHIKV E structure. This structure contains the E1, E2, and E3 domains.\n",
    "\n",
    "Currently, I'm applying a default filter of `times_seen > 2` to the data. We might want to explore more filters."
   ]
  },
  {
   "cell_type": "code",
   "execution_count": 7,
   "metadata": {},
   "outputs": [
    {
     "name": "stdout",
     "output_type": "stream",
     "text": [
      "\u001b[32m\n",
      "Formatting data for visualization using the 'effect' column from './dms-viz/input/combined_functional_effects.csv'...\u001b[0m\n",
      "\u001b[32m\n",
      "Using sitemap from './dms-viz/sitemap/CHIKV_6JO8_monomer_sitemap.csv'.\u001b[0m\n",
      "\u001b[31mWarning: The 'times_seen' filter limit '0' is less than the minimum value of 0.25. Setting the min value to 0.25.\n",
      "\u001b[0m\n",
      "\u001b[33mAbout 97.19% (762 of 784) of the wildtype residues in the data match the corresponding residues in the structure.\u001b[0m\n",
      "\u001b[33mAbout 17.21% (163 of 947) of the data sites are missing from the structure.\u001b[0m\n",
      "\u001b[32m\n",
      "Success! The visualization JSON was written to './dms-viz/output/CHIKV_6JO8_monomer_functional_scores.json'\u001b[0m\n"
     ]
    }
   ],
   "source": [
    "!configure-dms-viz format \\\n",
    "    --input ./dms-viz/input/combined_functional_effects.csv \\\n",
    "    --sitemap ./dms-viz/sitemap/CHIKV_6JO8_monomer_sitemap.csv \\\n",
    "    --output ./dms-viz/output/CHIKV_6JO8_monomer_functional_scores.json \\\n",
    "    --name \"CHIKV Func. Scores\" \\\n",
    "    --metric \"effect\" \\\n",
    "    --metric-name \"Functional Effect\" \\\n",
    "    --exclude-amino-acids \"*, -\" \\\n",
    "    --included-chains \"A B\" \\\n",
    "    --excluded-chains \"C E D F M N\" \\\n",
    "    --condition \"condition\" \\\n",
    "    --condition-name \"Cell Line\" \\\n",
    "    --tooltip-cols \"{'times_seen': '# Obsv', 'effect': 'Func Eff.', 'region': 'Region'}\" \\\n",
    "    --filter-cols \"{'n_selections': '# of Selections', 'times_seen': 'Times Seen'}\" \\\n",
    "    --filter-limits \"{'times_seen': [0, 2, 25]}\" \\\n",
    "    --structure \"6JO8\" \\\n",
    "    --colors \"#0072B2,#CC79A7,#4C3549\""
   ]
  },
  {
   "cell_type": "markdown",
   "metadata": {},
   "source": [
    "#### [6JO8](https://www.rcsb.org/structure/6JO8) Trimer w/ a single Mxra8\n",
    "\n",
    "Next, plot the same functional scores on the timer. I'm choosing to show only a single Mxra8 so can see the functional scores with and without the receptor."
   ]
  },
  {
   "cell_type": "code",
   "execution_count": 8,
   "metadata": {},
   "outputs": [
    {
     "name": "stdout",
     "output_type": "stream",
     "text": [
      "\u001b[32m\n",
      "Formatting data for visualization using the 'effect' column from './dms-viz/input/combined_functional_effects.csv'...\u001b[0m\n",
      "\u001b[32m\n",
      "Using sitemap from './dms-viz/sitemap/CHIKV_6JO8_trimer_sitemap.csv'.\u001b[0m\n",
      "\u001b[31mWarning: The 'times_seen' filter limit '0' is less than the minimum value of 0.25. Setting the min value to 0.25.\n",
      "\u001b[0m\n",
      "\u001b[33mAbout 97.19% (762 of 784) of the wildtype residues in the data match the corresponding residues in the structure.\u001b[0m\n",
      "\u001b[33mAbout 17.21% (163 of 947) of the data sites are missing from the structure.\u001b[0m\n",
      "\u001b[32m\n",
      "Success! The visualization JSON was written to './dms-viz/output/CHIKV_6JO8_trimer_functional_scores.json'\u001b[0m\n"
     ]
    }
   ],
   "source": [
    "!configure-dms-viz format \\\n",
    "    --input ./dms-viz/input/combined_functional_effects.csv \\\n",
    "    --sitemap ./dms-viz/sitemap/CHIKV_6JO8_trimer_sitemap.csv \\\n",
    "    --output ./dms-viz/output/CHIKV_6JO8_trimer_functional_scores.json \\\n",
    "    --name \"CHIKV Func. Scores\" \\\n",
    "    --metric \"effect\" \\\n",
    "    --metric-name \"Functional Effect\" \\\n",
    "    --exclude-amino-acids \"*, -\" \\\n",
    "    --included-chains \"A B C E D F\" \\\n",
    "    --excluded-chains \"M N\" \\\n",
    "    --condition \"condition\" \\\n",
    "    --condition-name \"Cell Line\" \\\n",
    "    --tooltip-cols \"{'times_seen': '# Obsv', 'effect': 'Func Eff.', 'region': 'Region'}\" \\\n",
    "    --filter-cols \"{'n_selections': '# of Selections', 'times_seen': 'Times Seen'}\" \\\n",
    "    --filter-limits \"{'times_seen': [0, 2, 25]}\" \\\n",
    "    --structure \"6JO8\" \\\n",
    "    --colors \"#0072B2,#CC79A7,#4C3549\""
   ]
  },
  {
   "cell_type": "markdown",
   "metadata": {},
   "source": [
    "#### [6NK6](https://www.rcsb.org/structure/6nk6) Trimer w/ Mxra8\n",
    "\n",
    "Also, plot the functional scores for all three cell types on the trimeric CHIKV E structure from Cyro-EM of the VLP. This structure contains the E1, E2, and the capsid."
   ]
  },
  {
   "cell_type": "code",
   "execution_count": 9,
   "metadata": {},
   "outputs": [
    {
     "name": "stdout",
     "output_type": "stream",
     "text": [
      "\u001b[32m\n",
      "Formatting data for visualization using the 'effect' column from './dms-viz/input/combined_functional_effects.csv'...\u001b[0m\n",
      "\u001b[32m\n",
      "Using sitemap from './dms-viz/sitemap/CHIKV_6NK6_trimer_sitemap.csv'.\u001b[0m\n",
      "\u001b[31mWarning: The 'times_seen' filter limit '0' is less than the minimum value of 0.25. Setting the min value to 0.25.\n",
      "\u001b[0m\n",
      "\u001b[33mAbout 94.64% (812 of 858) of the wildtype residues in the data match the corresponding residues in the structure.\u001b[0m\n",
      "\u001b[33mAbout 4.67% (42 of 900) of the data sites are missing from the structure.\u001b[0m\n",
      "\u001b[32m\n",
      "Success! The visualization JSON was written to './dms-viz/output/CHIKV_6NK6_trimer_functional_scores.json'\u001b[0m\n"
     ]
    }
   ],
   "source": [
    "!configure-dms-viz format \\\n",
    "    --input ./dms-viz/input/combined_functional_effects.csv \\\n",
    "    --sitemap ./dms-viz/sitemap/CHIKV_6NK6_trimer_sitemap.csv \\\n",
    "    --output ./dms-viz/output/CHIKV_6NK6_trimer_functional_scores.json \\\n",
    "    --name \"CHIKV Func. Scores\" \\\n",
    "    --metric \"effect\" \\\n",
    "    --metric-name \"Functional Effect\" \\\n",
    "    --exclude-amino-acids \"*, -\" \\\n",
    "    --included-chains \"A B C D E F G H\" \\\n",
    "    --excluded-chains \"M O P\" \\\n",
    "    --condition \"condition\" \\\n",
    "    --condition-name \"Cell Line\" \\\n",
    "    --tooltip-cols \"{'times_seen': '# Obsv', 'effect': 'Func Eff.', 'region': 'Region'}\" \\\n",
    "    --filter-cols \"{'n_selections': '# of Selections', 'times_seen': 'Times Seen'}\" \\\n",
    "    --filter-limits \"{'times_seen': [0, 2, 25]}\" \\\n",
    "    --structure \"6NK6\" \\\n",
    "    --colors \"#0072B2,#CC79A7,#4C3549\""
   ]
  },
  {
   "cell_type": "markdown",
   "metadata": {},
   "source": [
    "#### [6NK6](https://www.rcsb.org/structure/6nk6) Monomer w/ Mxra8"
   ]
  },
  {
   "cell_type": "code",
   "execution_count": 20,
   "metadata": {},
   "outputs": [
    {
     "name": "stdout",
     "output_type": "stream",
     "text": [
      "\u001b[32m\n",
      "Formatting data for visualization using the 'effect' column from './dms-viz/input/combined_functional_effects.csv'...\u001b[0m\n",
      "\u001b[32m\n",
      "Using sitemap from './dms-viz/sitemap/CHIKV_6NK6_monomer_sitemap.csv'.\u001b[0m\n",
      "\u001b[31mWarning: The 'times_seen' filter limit '0' is less than the minimum value of 0.25. Setting the min value to 0.25.\n",
      "\u001b[0m\n",
      "\u001b[33mAbout 94.64% (812 of 858) of the wildtype residues in the data match the corresponding residues in the structure.\u001b[0m\n",
      "\u001b[33mAbout 4.67% (42 of 900) of the data sites are missing from the structure.\u001b[0m\n",
      "\u001b[32m\n",
      "Success! The visualization JSON was written to './dms-viz/output/CHIKV_6NK6_monomer_functional_scores.json'\u001b[0m\n"
     ]
    }
   ],
   "source": [
    "!configure-dms-viz format \\\n",
    "    --input ./dms-viz/input/combined_functional_effects.csv \\\n",
    "    --sitemap ./dms-viz/sitemap/CHIKV_6NK6_monomer_sitemap.csv \\\n",
    "    --output ./dms-viz/output/CHIKV_6NK6_monomer_functional_scores.json \\\n",
    "    --name \"CHIKV Func. Scores\" \\\n",
    "    --metric \"effect\" \\\n",
    "    --metric-name \"Functional Effect\" \\\n",
    "    --exclude-amino-acids \"*, -\" \\\n",
    "    --included-chains \"A E\" \\\n",
    "    --excluded-chains \"N P B C D F G H J K L\" \\\n",
    "    --condition \"condition\" \\\n",
    "    --condition-name \"Cell Line\" \\\n",
    "    --tooltip-cols \"{'times_seen': '# Obsv', 'effect': 'Func Eff.', 'region': 'Region'}\" \\\n",
    "    --filter-cols \"{'n_selections': '# of Selections', 'times_seen': 'Times Seen'}\" \\\n",
    "    --filter-limits \"{'times_seen': [0, 2, 25]}\" \\\n",
    "    --structure \"6NK6\" \\\n",
    "    --colors \"#0072B2,#CC79A7,#4C3549\""
   ]
  },
  {
   "cell_type": "markdown",
   "metadata": {},
   "source": [
    "## Functional Scores Difference\n",
    "\n",
    "Next, we'll plot the difference between functional scores in each cell line."
   ]
  },
  {
   "cell_type": "code",
   "execution_count": 11,
   "metadata": {},
   "outputs": [
    {
     "data": {
      "text/html": [
       "<div>\n",
       "<style scoped>\n",
       "    .dataframe tbody tr th:only-of-type {\n",
       "        vertical-align: middle;\n",
       "    }\n",
       "\n",
       "    .dataframe tbody tr th {\n",
       "        vertical-align: top;\n",
       "    }\n",
       "\n",
       "    .dataframe thead th {\n",
       "        text-align: right;\n",
       "    }\n",
       "</style>\n",
       "<table border=\"1\" class=\"dataframe\">\n",
       "  <thead>\n",
       "    <tr style=\"text-align: right;\">\n",
       "      <th></th>\n",
       "      <th>site</th>\n",
       "      <th>wildtype</th>\n",
       "      <th>mutant</th>\n",
       "      <th>comparison</th>\n",
       "      <th>difference</th>\n",
       "    </tr>\n",
       "  </thead>\n",
       "  <tbody>\n",
       "    <tr>\n",
       "      <th>0</th>\n",
       "      <td>1</td>\n",
       "      <td>M</td>\n",
       "      <td>I</td>\n",
       "      <td>C636_v_MXRA8</td>\n",
       "      <td>0.0010</td>\n",
       "    </tr>\n",
       "    <tr>\n",
       "      <th>1</th>\n",
       "      <td>1</td>\n",
       "      <td>M</td>\n",
       "      <td>T</td>\n",
       "      <td>C636_v_MXRA8</td>\n",
       "      <td>0.0430</td>\n",
       "    </tr>\n",
       "    <tr>\n",
       "      <th>2</th>\n",
       "      <td>2</td>\n",
       "      <td>S</td>\n",
       "      <td>A</td>\n",
       "      <td>C636_v_MXRA8</td>\n",
       "      <td>0.0814</td>\n",
       "    </tr>\n",
       "    <tr>\n",
       "      <th>3</th>\n",
       "      <td>2</td>\n",
       "      <td>S</td>\n",
       "      <td>C</td>\n",
       "      <td>C636_v_MXRA8</td>\n",
       "      <td>0.0958</td>\n",
       "    </tr>\n",
       "    <tr>\n",
       "      <th>4</th>\n",
       "      <td>2</td>\n",
       "      <td>S</td>\n",
       "      <td>D</td>\n",
       "      <td>C636_v_MXRA8</td>\n",
       "      <td>0.3251</td>\n",
       "    </tr>\n",
       "  </tbody>\n",
       "</table>\n",
       "</div>"
      ],
      "text/plain": [
       "   site wildtype mutant    comparison  difference\n",
       "0     1        M      I  C636_v_MXRA8      0.0010\n",
       "1     1        M      T  C636_v_MXRA8      0.0430\n",
       "2     2        S      A  C636_v_MXRA8      0.0814\n",
       "3     2        S      C  C636_v_MXRA8      0.0958\n",
       "4     2        S      D  C636_v_MXRA8      0.3251"
      ]
     },
     "execution_count": 11,
     "metadata": {},
     "output_type": "execute_result"
    }
   ],
   "source": [
    "# Variables for filtering the raw functional effects\n",
    "min_times_seen = 2\n",
    "\n",
    "# Pivot and calculate the mean functional effect for each site and wildtype\n",
    "functional_selection_difference = (\n",
    "    combined_func_effects\n",
    "    .query('mutant not in [\"*\", \"-\"]')\n",
    "    .query(f'times_seen > {min_times_seen}')\n",
    "    .pivot(index=['site', 'wildtype', 'mutant'], columns='condition', values='effect')\n",
    "    .rename_axis(None, axis=1)\n",
    "    .reset_index()\n",
    ")\n",
    "\n",
    "# Get the condition columns (excluding 'site' and 'wildtype')\n",
    "condition_cols = [col for col in functional_selection_difference.columns \n",
    "                 if col not in ['site', 'wildtype', 'mutant']]\n",
    "\n",
    "# Calculate all pairwise differences\n",
    "for col1 in condition_cols:\n",
    "    for col2 in condition_cols:\n",
    "        if col1 != col2:\n",
    "            new_col_name = f\"{col1}_v_{col2}\"\n",
    "            functional_selection_difference[new_col_name] = (\n",
    "                functional_selection_difference[col1] - functional_selection_difference[col2]\n",
    "            )\n",
    "\n",
    "# Melt the comparisons into a long format\n",
    "functional_selection_difference = functional_selection_difference.melt(\n",
    "    id_vars=[\"site\", \"wildtype\", \"mutant\"],\n",
    "    value_vars=[\"C636_v_MXRA8\", \"C636_v_TIM1\", \"MXRA8_v_C636\", \"MXRA8_v_TIM1\", \"TIM1_v_C636\", \"TIM1_v_MXRA8\"],\n",
    "    var_name=\"comparison\",\n",
    "    value_name=\"difference\"\n",
    ")\n",
    "            \n",
    "# Write to file\n",
    "functional_selection_difference.to_csv('./dms-viz/input/functional_selection_difference.csv', index=False)\n",
    "functional_selection_difference.head()"
   ]
  },
  {
   "cell_type": "markdown",
   "metadata": {},
   "source": [
    "#### 6JO8 Trimer w/ Mxra8"
   ]
  },
  {
   "cell_type": "code",
   "execution_count": 12,
   "metadata": {},
   "outputs": [
    {
     "name": "stdout",
     "output_type": "stream",
     "text": [
      "\u001b[32m\n",
      "Formatting data for visualization using the 'difference' column from './dms-viz/input/functional_selection_difference.csv'...\u001b[0m\n",
      "\u001b[32m\n",
      "Using sitemap from './dms-viz/sitemap/CHIKV_6JO8_trimer_sitemap.csv'.\u001b[0m\n",
      "\u001b[31m\n",
      "Warning: NaN values were found in the metric column. These rows will be filtered out.\u001b[0m\n",
      "\u001b[33mAbout 97.19% (762 of 784) of the wildtype residues in the data match the corresponding residues in the structure.\u001b[0m\n",
      "\u001b[33mAbout 17.21% (163 of 947) of the data sites are missing from the structure.\u001b[0m\n",
      "\u001b[32m\n",
      "Success! The visualization JSON was written to './dms-viz/output/CHIKV_6JO8_trimer_functional_diff.json'\u001b[0m\n"
     ]
    }
   ],
   "source": [
    "!configure-dms-viz format \\\n",
    "    --input ./dms-viz/input/functional_selection_difference.csv \\\n",
    "    --sitemap ./dms-viz/sitemap/CHIKV_6JO8_trimer_sitemap.csv \\\n",
    "    --output ./dms-viz/output/CHIKV_6JO8_trimer_functional_diff.json \\\n",
    "    --name \"CHIKV Cell Entry Difference\" \\\n",
    "    --metric \"difference\" \\\n",
    "    --metric-name \"Effect Difference\" \\\n",
    "    --exclude-amino-acids \"*, -\" \\\n",
    "    --included-chains \"A B C E D F\" \\\n",
    "    --excluded-chains \"M N\" \\\n",
    "    --condition \"comparison\" \\\n",
    "    --condition-name \"Comparison (Left - Right)\" \\\n",
    "    --structure \"6JO8\" \\\n",
    "    --colors \"#0072B2,#CC79A7,#4C3549,#009E73,#E69F00,#56B4E9\""
   ]
  },
  {
   "cell_type": "markdown",
   "metadata": {},
   "source": [
    "#### 6JO8 Monomer w/ Mxra8"
   ]
  },
  {
   "cell_type": "code",
   "execution_count": 13,
   "metadata": {},
   "outputs": [
    {
     "name": "stdout",
     "output_type": "stream",
     "text": [
      "\u001b[32m\n",
      "Formatting data for visualization using the 'difference' column from './dms-viz/input/functional_selection_difference.csv'...\u001b[0m\n",
      "\u001b[32m\n",
      "Using sitemap from './dms-viz/sitemap/CHIKV_6JO8_monomer_sitemap.csv'.\u001b[0m\n",
      "\u001b[31m\n",
      "Warning: NaN values were found in the metric column. These rows will be filtered out.\u001b[0m\n",
      "\u001b[33mAbout 97.19% (762 of 784) of the wildtype residues in the data match the corresponding residues in the structure.\u001b[0m\n",
      "\u001b[33mAbout 17.21% (163 of 947) of the data sites are missing from the structure.\u001b[0m\n",
      "\u001b[32m\n",
      "Success! The visualization JSON was written to './dms-viz/output/CHIKV_6JO8_monomer_functional_diff.json'\u001b[0m\n"
     ]
    }
   ],
   "source": [
    "!configure-dms-viz format \\\n",
    "    --input ./dms-viz/input/functional_selection_difference.csv \\\n",
    "    --sitemap ./dms-viz/sitemap/CHIKV_6JO8_monomer_sitemap.csv \\\n",
    "    --output ./dms-viz/output/CHIKV_6JO8_monomer_functional_diff.json \\\n",
    "    --name \"CHIKV Cell Entry Difference\" \\\n",
    "    --metric \"difference\" \\\n",
    "    --metric-name \"Effect Difference\" \\\n",
    "    --exclude-amino-acids \"*, -\" \\\n",
    "    --included-chains \"A B\" \\\n",
    "    --excluded-chains \"C E D F M N\" \\\n",
    "    --condition \"comparison\" \\\n",
    "    --condition-name \"Comparison (Left - Right)\" \\\n",
    "    --structure \"6JO8\" \\\n",
    "    --colors \"#0072B2,#CC79A7,#4C3549,#009E73,#E69F00,#56B4E9\""
   ]
  },
  {
   "cell_type": "markdown",
   "metadata": {},
   "source": [
    "#### [6NK6](https://www.rcsb.org/structure/6nk6) Trimer w/ Mxra8"
   ]
  },
  {
   "cell_type": "code",
   "execution_count": 14,
   "metadata": {},
   "outputs": [
    {
     "name": "stdout",
     "output_type": "stream",
     "text": [
      "\u001b[32m\n",
      "Formatting data for visualization using the 'difference' column from './dms-viz/input/functional_selection_difference.csv'...\u001b[0m\n",
      "\u001b[32m\n",
      "Using sitemap from './dms-viz/sitemap/CHIKV_6NK6_trimer_sitemap.csv'.\u001b[0m\n",
      "\u001b[31m\n",
      "Warning: NaN values were found in the metric column. These rows will be filtered out.\u001b[0m\n",
      "\u001b[33mAbout 94.64% (812 of 858) of the wildtype residues in the data match the corresponding residues in the structure.\u001b[0m\n",
      "\u001b[33mAbout 4.67% (42 of 900) of the data sites are missing from the structure.\u001b[0m\n",
      "\u001b[32m\n",
      "Success! The visualization JSON was written to './dms-viz/output/CHIKV_6NK6_trimer_functional_diff.json'\u001b[0m\n"
     ]
    }
   ],
   "source": [
    "!configure-dms-viz format \\\n",
    "    --input ./dms-viz/input/functional_selection_difference.csv \\\n",
    "    --sitemap ./dms-viz/sitemap/CHIKV_6NK6_trimer_sitemap.csv \\\n",
    "    --output ./dms-viz/output/CHIKV_6NK6_trimer_functional_diff.json \\\n",
    "    --name \"CHIKV Cell Entry Difference\" \\\n",
    "    --metric \"difference\" \\\n",
    "    --metric-name \"Effect Difference\" \\\n",
    "    --exclude-amino-acids \"*, -\" \\\n",
    "    --included-chains \"A B C D E F G H\" \\\n",
    "    --excluded-chains \"M O P\" \\\n",
    "    --condition \"comparison\" \\\n",
    "    --condition-name \"Comparison (Left - Right)\" \\\n",
    "    --structure \"6NK6\" \\\n",
    "    --colors \"#0072B2,#CC79A7,#4C3549,#009E73,#E69F00,#56B4E9\""
   ]
  },
  {
   "cell_type": "markdown",
   "metadata": {},
   "source": [
    "#### [6NK6](https://www.rcsb.org/structure/6nk6) Monomer w/ Mxra8"
   ]
  },
  {
   "cell_type": "code",
   "execution_count": 19,
   "metadata": {},
   "outputs": [
    {
     "name": "stdout",
     "output_type": "stream",
     "text": [
      "\u001b[32m\n",
      "Formatting data for visualization using the 'difference' column from './dms-viz/input/functional_selection_difference.csv'...\u001b[0m\n",
      "\u001b[32m\n",
      "Using sitemap from './dms-viz/sitemap/CHIKV_6NK6_monomer_sitemap.csv'.\u001b[0m\n",
      "\u001b[31m\n",
      "Warning: NaN values were found in the metric column. These rows will be filtered out.\u001b[0m\n",
      "\u001b[33mAbout 94.64% (812 of 858) of the wildtype residues in the data match the corresponding residues in the structure.\u001b[0m\n",
      "\u001b[33mAbout 4.67% (42 of 900) of the data sites are missing from the structure.\u001b[0m\n",
      "\u001b[32m\n",
      "Success! The visualization JSON was written to './dms-viz/output/CHIKV_6NK6_monomer_functional_diff.json'\u001b[0m\n"
     ]
    }
   ],
   "source": [
    "!configure-dms-viz format \\\n",
    "    --input ./dms-viz/input/functional_selection_difference.csv \\\n",
    "    --sitemap ./dms-viz/sitemap/CHIKV_6NK6_monomer_sitemap.csv \\\n",
    "    --output ./dms-viz/output/CHIKV_6NK6_monomer_functional_diff.json \\\n",
    "    --name \"CHIKV Cell Entry Difference\" \\\n",
    "    --metric \"difference\" \\\n",
    "    --metric-name \"Effect Difference\" \\\n",
    "    --exclude-amino-acids \"*, -\" \\\n",
    "    --included-chains \"A E\" \\\n",
    "    --excluded-chains \"N P B C D F G H J K L\" \\\n",
    "    --condition \"comparison\" \\\n",
    "    --condition-name \"Comparison (Left - Right)\" \\\n",
    "    --structure \"6NK6\" \\\n",
    "    --colors \"#0072B2,#CC79A7,#4C3549,#009E73,#E69F00,#56B4E9\""
   ]
  },
  {
   "cell_type": "code",
   "execution_count": null,
   "metadata": {},
   "outputs": [],
   "source": []
  }
 ],
 "metadata": {
  "kernelspec": {
   "display_name": "dms-vep-pipeline-3",
   "language": "python",
   "name": "python3"
  },
  "language_info": {
   "codemirror_mode": {
    "name": "ipython",
    "version": 3
   },
   "file_extension": ".py",
   "mimetype": "text/x-python",
   "name": "python",
   "nbconvert_exporter": "python",
   "pygments_lexer": "ipython3",
   "version": "3.13.0"
  }
 },
 "nbformat": 4,
 "nbformat_minor": 2
}
