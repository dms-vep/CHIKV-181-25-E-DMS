{
 "cells": [
  {
   "cell_type": "markdown",
   "id": "0e1e82ed-cec6-4e01-9e72-9cf31a0733d6",
   "metadata": {},
   "source": [
    "## Compare binding to human versus mouse Mxra8"
   ]
  },
  {
   "cell_type": "code",
   "execution_count": null,
   "id": "3a2ff10c-4cca-49dd-97c7-c8b236a6aaef",
   "metadata": {},
   "outputs": [],
   "source": [
    "import altair as alt\n",
    "\n",
    "import pandas as pd\n",
    "\n",
    "_ = alt.data_transformers.disable_max_rows()"
   ]
  },
  {
   "cell_type": "code",
   "execution_count": null,
   "id": "de1235d0-0f92-43e9-93d4-8d5c5cffc8c4",
   "metadata": {
    "editable": true,
    "slideshow": {
     "slide_type": ""
    },
    "tags": [
     "parameters"
    ]
   },
   "outputs": [],
   "source": [
    "# this cell is tagged parameters for `papermill` parameterization\n",
    "\n",
    "entry_293T_human_Mxra8 = None\n",
    "binding_human_Mxra8 = None\n",
    "binding_mouse_Mxra8 = None\n",
    "corr_chart_html = None\n",
    "min_entry_293T_human_Mxra8 = None\n",
    "min_entry_293T_human_Mxra8_std = None\n",
    "min_binding_std = None\n",
    "min_times_seen = None"
   ]
  },
  {
   "cell_type": "code",
   "execution_count": null,
   "id": "8333e0a0-28b1-4b4b-b798-eccb181ef7fb",
   "metadata": {},
   "outputs": [],
   "source": [
    "# read the data\n",
    "\n",
    "print(f\"Reading cell entry from {entry_293T_human_Mxra8=}\")\n",
    "data_df = (\n",
    "    pd.read_csv(entry_293T_human_Mxra8)\n",
    "    .query(\"times_seen >= @min_times_seen\")\n",
    "    .query(\"effect_std <= @min_entry_293T_human_Mxra8_std\")\n",
    "    .assign(mutation=lambda x: x[\"wildtype\"] + x[\"site\"].astype(str) + x[\"mutant\"])\n",
    "    [[\"site\", \"mutation\", \"effect\"]]\n",
    "    .rename(columns={\"effect\": \"entry_293T_human_Mxra8\"})\n",
    ")\n",
    "\n",
    "for name, f in [\n",
    "    (\"binding_human_Mxra8\", binding_human_Mxra8),\n",
    "    (\"binding_mouse_Mxra8\", binding_mouse_Mxra8),\n",
    "]:\n",
    "    print(f\"Reading {name=} from {f=}\")\n",
    "    bind_df = (\n",
    "        pd.read_csv(f)\n",
    "        .query(\"times_seen >= @min_times_seen\")\n",
    "        .query(\"frac_models == 1\")\n",
    "        .query(\"`Mxra8 binding_std` <= @min_binding_std\")\n",
    "        .rename(columns={\"Mxra8 binding_median\": name})\n",
    "    )\n",
    "    bind_rep_cols = bind_df.columns[11: ].tolist()\n",
    "    bind_df = (\n",
    "        bind_df\n",
    "        .assign(\n",
    "            label=lambda x: x.apply(\n",
    "                lambda r: f\"{r[name]:.2f} ({', '.join(str(round(r[c], 2)) for c in bind_rep_cols)})\",\n",
    "                axis=1,\n",
    "            )\n",
    "        )\n",
    "        .rename(columns={\"label\": f\"{name}_label\"})\n",
    "        [[\"mutation\", name, f\"{name}_label\"]]\n",
    "    )\n",
    "    data_df = data_df.merge(\n",
    "        bind_df, how=\"left\", on=[\"mutation\"], validate=\"1:1\"\n",
    "    )"
   ]
  },
  {
   "cell_type": "code",
   "execution_count": null,
   "id": "3e09e22e-6d25-4d70-94ab-8712e717f2a6",
   "metadata": {},
   "outputs": [],
   "source": [
    "# plot the data\n",
    "\n",
    "site_selection = alt.selection_point(on=\"mouseover\", empty=False, fields=[\"site\"])\n",
    "\n",
    "mut_selection = alt.selection_point(on=\"mouseover\", empty=False, fields=[\"mutation\"])\n",
    "\n",
    "min_entry_slider = alt.param(\n",
    "    name=\"min_entry_slider\",\n",
    "    bind=alt.binding_range(\n",
    "        min=data_df[\"entry_293T_human_Mxra8\"].min(),\n",
    "        max=0,\n",
    "        name=\"minimum entry in 293T-human-Mxra8 cells\",\n",
    "    ),\n",
    "    value=min_entry_293T_human_Mxra8,\n",
    ")\n",
    "\n",
    "corr_chart = (\n",
    "    alt.Chart(data_df)\n",
    "    .add_params(site_selection, mut_selection, min_entry_slider)\n",
    "    .transform_filter(alt.datum[\"entry_293T_human_Mxra8\"] >= min_entry_slider)\n",
    "    .encode(\n",
    "        alt.X(\"binding_human_Mxra8\", title=\"binding human Mxra8\"),\n",
    "        alt.Y(\"binding_mouse_Mxra8\", title=\"binding mouse Mxra8\"),\n",
    "        color=alt.condition(site_selection, alt.value(\"red\"), alt.value(\"gray\")),\n",
    "        opacity=alt.condition(site_selection, alt.value(0.9), alt.value(0.15)),\n",
    "        size=alt.condition(site_selection, alt.value(75), alt.value(55)),\n",
    "        strokeWidth=alt.condition(mut_selection, alt.value(3), alt.value(0.7)),\n",
    "        tooltip=[\n",
    "            \"mutation\",\n",
    "            alt.Tooltip(\"entry_293T_human_Mxra8\", format=\".2f\", title=\"entry 293T-human-Mxra8\"),\n",
    "            alt.Tooltip(\"binding_human_Mxra8_label\", title=\"binding human-Mxra8\"),\n",
    "            alt.Tooltip(\"binding_mouse_Mxra8_label\", title=\"binding mouse-Mxra8\"),\n",
    "        ],\n",
    "    )\n",
    "    .mark_circle(stroke=\"black\")\n",
    "    .properties(width=300, height=300, title=\"binding to human vs mouse Mxra8\")\n",
    "    .configure_title(fontSize=18)\n",
    "    .configure_axis(grid=False, titleFontSize=16, labelFontSize=12)\n",
    ")\n",
    "\n",
    "print(f\"Saving to {corr_chart_html=}\")\n",
    "corr_chart.save(corr_chart_html)\n",
    "\n",
    "corr_chart"
   ]
  },
  {
   "cell_type": "code",
   "execution_count": null,
   "id": "6678f206-97f6-4e37-8357-11f88ff1af90",
   "metadata": {},
   "outputs": [],
   "source": []
  }
 ],
 "metadata": {
  "kernelspec": {
   "display_name": "Python 3 (ipykernel)",
   "language": "python",
   "name": "python3"
  },
  "language_info": {
   "codemirror_mode": {
    "name": "ipython",
    "version": 3
   },
   "file_extension": ".py",
   "mimetype": "text/x-python",
   "name": "python",
   "nbconvert_exporter": "python",
   "pygments_lexer": "ipython3",
   "version": "3.12.9"
  }
 },
 "nbformat": 4,
 "nbformat_minor": 5
}
