{
 "cells": [
  {
   "cell_type": "markdown",
   "id": "2da56064",
   "metadata": {},
   "source": [
    "# Fetch SRA Metadata\n",
    "\n",
    "This notebook gets information on the library layout and sequencing type for each run. It also checks if the runs actually exit in a way that can be fetched and downloaded."
   ]
  },
  {
   "cell_type": "code",
   "execution_count": 57,
   "id": "9fb7434e",
   "metadata": {},
   "outputs": [],
   "source": [
    "import pandas as pd \n",
    "from Bio import Entrez\n",
    "from io import StringIO"
   ]
  },
  {
   "cell_type": "code",
   "execution_count": 58,
   "id": "bb76df65",
   "metadata": {},
   "outputs": [],
   "source": [
    "Entrez.email = \"your.email@example.com\""
   ]
  },
  {
   "cell_type": "code",
   "execution_count": 59,
   "id": "87d16b71",
   "metadata": {},
   "outputs": [
    {
     "data": {
      "text/plain": [
       "9606"
      ]
     },
     "execution_count": 59,
     "metadata": {},
     "output_type": "execute_result"
    }
   ],
   "source": [
    "sra_df = pd.read_csv(\"SRAQueryResults.csv\")\n",
    "accessions = sra_df[\"acc\"].tolist()\n",
    "len(accessions)"
   ]
  },
  {
   "cell_type": "markdown",
   "id": "8929daac",
   "metadata": {},
   "source": [
    "**Beware, this takes a really long time or run (~1.5 hours)**"
   ]
  },
  {
   "cell_type": "code",
   "execution_count": null,
   "id": "542cd639",
   "metadata": {},
   "outputs": [
    {
     "name": "stdout",
     "output_type": "stream",
     "text": [
      "Error fetching data for SRR31362709: HTTP Error 400: Bad Request\n",
      "Error fetching data for ERR12207680: HTTP Error 400: Bad Request\n",
      "Error fetching data for ERR14752059: HTTP Error 400: Bad Request\n",
      "Error fetching data for ERR8050042: HTTP Error 400: Bad Request\n",
      "Error fetching data for ERR11894314: HTTP Error 400: Bad Request\n",
      "Error fetching data for SRR13365202: HTTP Error 400: Bad Request\n",
      "Error fetching data for SRR30558039: HTTP Error 400: Bad Request\n",
      "Error fetching data for ERR14752306: HTTP Error 400: Bad Request\n",
      "Error fetching data for SRR18134279: HTTP Error 400: Bad Request\n",
      "Error fetching data for SRR28279775: HTTP Error 400: Bad Request\n",
      "Error fetching data for SRR17464150: HTTP Error 400: Bad Request\n",
      "Error fetching data for ERR7932528: HTTP Error 400: Bad Request\n",
      "Error fetching data for SRR12450125: HTTP Error 400: Bad Request\n",
      "Error fetching data for SRR28288233: HTTP Error 400: Bad Request\n",
      "Error fetching data for SRR400025: HTTP Error 400: Bad Request\n",
      "Error fetching data for SRR30360593: HTTP Error 400: Bad Request\n",
      "Error fetching data for SRR5892692: HTTP Error 400: Bad Request\n",
      "Error fetching data for SRR20204150: HTTP Error 400: Bad Request\n",
      "Error fetching data for SRR13335638: HTTP Error 400: Bad Request\n"
     ]
    }
   ],
   "source": [
    "# Download the metadata for each accession using Entrez efetch\n",
    "metadata_df = pd.DataFrame()\n",
    "for acc in accessions:\n",
    "    try:\n",
    "        handle = Entrez.efetch(db=\"sra\", id=acc, rettype=\"runinfo\", retmode=\"text\")\n",
    "        data = handle.read()\n",
    "        handle.close()\n",
    "        \n",
    "        # Check if data is empty\n",
    "        if not data or len(data.decode('utf-8').strip()) == 0:\n",
    "            print(f\"Warning: No data returned for {acc}\")\n",
    "            continue\n",
    "            \n",
    "        # Parse and append to dataframe\n",
    "        temp_df = pd.read_csv(StringIO(data.decode('utf-8')))\n",
    "        metadata_df = pd.concat([metadata_df, temp_df], ignore_index=True)\n",
    "        \n",
    "    except Exception as e:\n",
    "        print(f\"Error fetching data for {acc}: {e}\")\n",
    "        continue"
   ]
  },
  {
   "cell_type": "markdown",
   "id": "657e0e28",
   "metadata": {},
   "source": [
    "Some of the requests just randomly fail. This cell tries again with the failed runs and adds them."
   ]
  },
  {
   "cell_type": "code",
   "execution_count": 60,
   "id": "b7581fd4",
   "metadata": {},
   "outputs": [
    {
     "name": "stdout",
     "output_type": "stream",
     "text": [
      "Error fetching data for ERR14752306: HTTP Error 400: Bad Request\n",
      "Error fetching data for ERR12207680: HTTP Error 400: Bad Request\n",
      "Error fetching data for ERR14752059: HTTP Error 400: Bad Request\n",
      "Error fetching data for ERR7932528: HTTP Error 400: Bad Request\n"
     ]
    }
   ],
   "source": [
    "missing = set(sra_df.acc) - set(metadata_df.Run)\n",
    "for acc in missing:\n",
    "    try:\n",
    "        handle = Entrez.efetch(db=\"sra\", id=acc, rettype=\"runinfo\", retmode=\"text\")\n",
    "        data = handle.read()\n",
    "        handle.close()\n",
    "        \n",
    "        # Check if data is empty\n",
    "        if not data or len(data.decode('utf-8').strip()) == 0:\n",
    "            print(f\"Warning: No data returned for {acc}\")\n",
    "            continue\n",
    "            \n",
    "        # Parse and append to dataframe\n",
    "        temp_df = pd.read_csv(StringIO(data.decode('utf-8')))\n",
    "        metadata_df = pd.concat([metadata_df, temp_df], ignore_index=True)\n",
    "        \n",
    "    except Exception as e:\n",
    "        print(f\"Error fetching data for {acc}: {e}\")\n",
    "        continue"
   ]
  },
  {
   "cell_type": "markdown",
   "id": "3f5553cb",
   "metadata": {},
   "source": [
    "And some runs just don't exist under the accession they say they do. Finally, remove duplicate rows and make a final dataset with only the accessions in both the original SRA accession list and that I was able to fetch metadata for."
   ]
  },
  {
   "cell_type": "code",
   "execution_count": null,
   "id": "e5276f11",
   "metadata": {},
   "outputs": [],
   "source": [
    "common_accessions = list(set(sra_df.acc) & set(metadata_df.Run))\n",
    "result_df = sra_df[sra_df.acc.isin(common_accessions)].merge(metadata_df, left_on='acc', right_on='Run', how='left')\n",
    "result_df = result_df.drop_duplicates()"
   ]
  },
  {
   "cell_type": "code",
   "execution_count": 65,
   "id": "a61ab3f6",
   "metadata": {},
   "outputs": [],
   "source": [
    "# Filter to get only LibraryLayout in [\"SINGLE\", \"PAIRED\"]\n",
    "result_df= result_df[result_df['LibraryLayout'].isin([\"SINGLE\", \"PAIRED\"])]\n",
    "# Filter to get only the Platform in [\"ILLUMINA\", \"PACBIO_SMRT\", \"OXFORD_NANOPORE\"]\n",
    "result_df = result_df[result_df['Platform'].isin([\"ILLUMINA\", \"PACBIO_SMRT\", \"OXFORD_NANOPORE\"])]\n",
    "# Save the final result to a CSV file\n",
    "result_df.to_csv(\"SRA_Runs.csv\", index=False)"
   ]
  }
 ],
 "metadata": {
  "kernelspec": {
   "display_name": "intrahost",
   "language": "python",
   "name": "python3"
  },
  "language_info": {
   "codemirror_mode": {
    "name": "ipython",
    "version": 3
   },
   "file_extension": ".py",
   "mimetype": "text/x-python",
   "name": "python",
   "nbconvert_exporter": "python",
   "pygments_lexer": "ipython3",
   "version": "3.12.10"
  }
 },
 "nbformat": 4,
 "nbformat_minor": 5
}
