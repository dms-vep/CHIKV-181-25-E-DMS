{
 "cells": [
  {
   "cell_type": "markdown",
   "metadata": {},
   "source": [
    "# Analyze PacBio CCSs\n",
    "\n",
    "This notebook analyzes the PacBio CCSs that have been previously aligned and parsed with [alignparse](https://jbloomlab.github.io/alignparse/).\n"
   ]
  },
  {
   "cell_type": "code",
   "execution_count": 2,
   "metadata": {
    "tags": []
   },
   "outputs": [],
   "source": [
    "import os\n",
    "import yaml\n",
    "import altair as alt\n",
    "import pandas as pd\n",
    "import alignparse.targets"
   ]
  },
  {
   "cell_type": "code",
   "execution_count": 7,
   "metadata": {},
   "outputs": [],
   "source": [
    "# Set to \"../\" if running locally and \"\" if running through Snakemake\n",
    "path_prefix = \"\""
   ]
  },
  {
   "cell_type": "markdown",
   "metadata": {},
   "source": [
    "Get configuration information:"
   ]
  },
  {
   "cell_type": "code",
   "execution_count": 6,
   "metadata": {
    "tags": []
   },
   "outputs": [],
   "source": [
    "# If you are running notebook interactively rather than in pipeline that handles\n",
    "# working directories, you may have to first `os.chdir` to appropriate directory.\n",
    "\n",
    "with open(path_prefix + \"config.yaml\") as f:\n",
    "    config = yaml.safe_load(f)"
   ]
  },
  {
   "cell_type": "markdown",
   "metadata": {},
   "source": [
    "Read in the PacBio runs:"
   ]
  },
  {
   "cell_type": "code",
   "execution_count": 9,
   "metadata": {
    "tags": []
   },
   "outputs": [
    {
     "data": {
      "text/html": [
       "<div>\n",
       "<style scoped>\n",
       "    .dataframe tbody tr th:only-of-type {\n",
       "        vertical-align: middle;\n",
       "    }\n",
       "\n",
       "    .dataframe tbody tr th {\n",
       "        vertical-align: top;\n",
       "    }\n",
       "\n",
       "    .dataframe thead th {\n",
       "        text-align: right;\n",
       "    }\n",
       "</style>\n",
       "<table border=\"1\" class=\"dataframe\">\n",
       "  <thead>\n",
       "    <tr style=\"text-align: right;\">\n",
       "      <th></th>\n",
       "      <th>library</th>\n",
       "      <th>pacbioRun</th>\n",
       "      <th>fastq</th>\n",
       "      <th>design</th>\n",
       "      <th>subdir</th>\n",
       "    </tr>\n",
       "  </thead>\n",
       "  <tbody>\n",
       "    <tr>\n",
       "      <th>0</th>\n",
       "      <td>E3E2_Lib_A</td>\n",
       "      <td>E3E2_Lib_A_240719</td>\n",
       "      <td>/fh/fast/bloom_j/SR/ngs/pacbio/240719_XiaohuiJ...</td>\n",
       "      <td>Plasmid_Pool</td>\n",
       "      <td>../results/process_ccs/E3E2_Lib_A_240719</td>\n",
       "    </tr>\n",
       "    <tr>\n",
       "      <th>1</th>\n",
       "      <td>6KE1_Lib_B</td>\n",
       "      <td>6KE1_Lib_B_240719</td>\n",
       "      <td>/fh/fast/bloom_j/SR/ngs/pacbio/240719_XiaohuiJ...</td>\n",
       "      <td>Plasmid_Pool</td>\n",
       "      <td>../results/process_ccs/6KE1_Lib_B_240719</td>\n",
       "    </tr>\n",
       "    <tr>\n",
       "      <th>2</th>\n",
       "      <td>E3E2_BCPCR_A</td>\n",
       "      <td>E3E2_BCPCR_A_240719</td>\n",
       "      <td>/fh/fast/bloom_j/SR/ngs/pacbio/240719_XiaohuiJ...</td>\n",
       "      <td>Barcode_PCR</td>\n",
       "      <td>../results/process_ccs/E3E2_BCPCR_A_240719</td>\n",
       "    </tr>\n",
       "    <tr>\n",
       "      <th>3</th>\n",
       "      <td>6KE1_BCPCR_B</td>\n",
       "      <td>6KE1_BCPCR_B_240719</td>\n",
       "      <td>/fh/fast/bloom_j/SR/ngs/pacbio/240719_XiaohuiJ...</td>\n",
       "      <td>Barcode_PCR</td>\n",
       "      <td>../results/process_ccs/6KE1_BCPCR_B_240719</td>\n",
       "    </tr>\n",
       "    <tr>\n",
       "      <th>4</th>\n",
       "      <td>E3E2_1_GS</td>\n",
       "      <td>E3E2_1_GS_240719</td>\n",
       "      <td>/fh/fast/bloom_j/SR/ngs/pacbio/240719_XiaohuiJ...</td>\n",
       "      <td>Genscript_Product</td>\n",
       "      <td>../results/process_ccs/E3E2_1_GS_240719</td>\n",
       "    </tr>\n",
       "    <tr>\n",
       "      <th>5</th>\n",
       "      <td>6KE1_2_GS</td>\n",
       "      <td>6KE1_2_GS_240719</td>\n",
       "      <td>/fh/fast/bloom_j/SR/ngs/pacbio/240719_XiaohuiJ...</td>\n",
       "      <td>Genscript_Product</td>\n",
       "      <td>../results/process_ccs/6KE1_2_GS_240719</td>\n",
       "    </tr>\n",
       "  </tbody>\n",
       "</table>\n",
       "</div>"
      ],
      "text/plain": [
       "        library            pacbioRun  \\\n",
       "0    E3E2_Lib_A    E3E2_Lib_A_240719   \n",
       "1    6KE1_Lib_B    6KE1_Lib_B_240719   \n",
       "2  E3E2_BCPCR_A  E3E2_BCPCR_A_240719   \n",
       "3  6KE1_BCPCR_B  6KE1_BCPCR_B_240719   \n",
       "4     E3E2_1_GS     E3E2_1_GS_240719   \n",
       "5     6KE1_2_GS     6KE1_2_GS_240719   \n",
       "\n",
       "                                               fastq             design  \\\n",
       "0  /fh/fast/bloom_j/SR/ngs/pacbio/240719_XiaohuiJ...       Plasmid_Pool   \n",
       "1  /fh/fast/bloom_j/SR/ngs/pacbio/240719_XiaohuiJ...       Plasmid_Pool   \n",
       "2  /fh/fast/bloom_j/SR/ngs/pacbio/240719_XiaohuiJ...        Barcode_PCR   \n",
       "3  /fh/fast/bloom_j/SR/ngs/pacbio/240719_XiaohuiJ...        Barcode_PCR   \n",
       "4  /fh/fast/bloom_j/SR/ngs/pacbio/240719_XiaohuiJ...  Genscript_Product   \n",
       "5  /fh/fast/bloom_j/SR/ngs/pacbio/240719_XiaohuiJ...  Genscript_Product   \n",
       "\n",
       "                                       subdir  \n",
       "0    ../results/process_ccs/E3E2_Lib_A_240719  \n",
       "1    ../results/process_ccs/6KE1_Lib_B_240719  \n",
       "2  ../results/process_ccs/E3E2_BCPCR_A_240719  \n",
       "3  ../results/process_ccs/6KE1_BCPCR_B_240719  \n",
       "4     ../results/process_ccs/E3E2_1_GS_240719  \n",
       "5     ../results/process_ccs/6KE1_2_GS_240719  "
      ]
     },
     "execution_count": 9,
     "metadata": {},
     "output_type": "execute_result"
    }
   ],
   "source": [
    "pacbio_runs = (\n",
    "    pd.read_csv(path_prefix + config[\"runs\"])\n",
    "    .assign(subdir=lambda x: path_prefix + \"results/process_ccs/\" + x[\"run\"])\n",
    "    .rename(columns={\"run\": \"pacbioRun\"})\n",
    ")\n",
    "\n",
    "pacbio_runs"
   ]
  },
  {
   "cell_type": "markdown",
   "metadata": {},
   "source": [
    "## Stats on CCS alignments\n",
    "Read and plot the alignment stats from running `alignparse` on the PacBio CCSs:"
   ]
  },
  {
   "cell_type": "code",
   "execution_count": 10,
   "metadata": {
    "tags": []
   },
   "outputs": [
    {
     "data": {
      "text/html": [
       "\n",
       "<style>\n",
       "  #altair-viz-ca3d4e9605da48d6ac570754c9a3e0e0.vega-embed {\n",
       "    width: 100%;\n",
       "    display: flex;\n",
       "  }\n",
       "\n",
       "  #altair-viz-ca3d4e9605da48d6ac570754c9a3e0e0.vega-embed details,\n",
       "  #altair-viz-ca3d4e9605da48d6ac570754c9a3e0e0.vega-embed details summary {\n",
       "    position: relative;\n",
       "  }\n",
       "</style>\n",
       "<div id=\"altair-viz-ca3d4e9605da48d6ac570754c9a3e0e0\"></div>\n",
       "<script type=\"text/javascript\">\n",
       "  var VEGA_DEBUG = (typeof VEGA_DEBUG == \"undefined\") ? {} : VEGA_DEBUG;\n",
       "  (function(spec, embedOpt){\n",
       "    let outputDiv = document.currentScript.previousElementSibling;\n",
       "    if (outputDiv.id !== \"altair-viz-ca3d4e9605da48d6ac570754c9a3e0e0\") {\n",
       "      outputDiv = document.getElementById(\"altair-viz-ca3d4e9605da48d6ac570754c9a3e0e0\");\n",
       "    }\n",
       "    const paths = {\n",
       "      \"vega\": \"https://cdn.jsdelivr.net/npm/vega@5?noext\",\n",
       "      \"vega-lib\": \"https://cdn.jsdelivr.net/npm/vega-lib?noext\",\n",
       "      \"vega-lite\": \"https://cdn.jsdelivr.net/npm/vega-lite@5.15.1?noext\",\n",
       "      \"vega-embed\": \"https://cdn.jsdelivr.net/npm/vega-embed@6?noext\",\n",
       "    };\n",
       "\n",
       "    function maybeLoadScript(lib, version) {\n",
       "      var key = `${lib.replace(\"-\", \"\")}_version`;\n",
       "      return (VEGA_DEBUG[key] == version) ?\n",
       "        Promise.resolve(paths[lib]) :\n",
       "        new Promise(function(resolve, reject) {\n",
       "          var s = document.createElement('script');\n",
       "          document.getElementsByTagName(\"head\")[0].appendChild(s);\n",
       "          s.async = true;\n",
       "          s.onload = () => {\n",
       "            VEGA_DEBUG[key] = version;\n",
       "            return resolve(paths[lib]);\n",
       "          };\n",
       "          s.onerror = () => reject(`Error loading script: ${paths[lib]}`);\n",
       "          s.src = paths[lib];\n",
       "        });\n",
       "    }\n",
       "\n",
       "    function showError(err) {\n",
       "      outputDiv.innerHTML = `<div class=\"error\" style=\"color:red;\">${err}</div>`;\n",
       "      throw err;\n",
       "    }\n",
       "\n",
       "    function displayChart(vegaEmbed) {\n",
       "      vegaEmbed(outputDiv, spec, embedOpt)\n",
       "        .catch(err => showError(`Javascript Error: ${err.message}<br>This usually means there's a typo in your chart specification. See the javascript console for the full traceback.`));\n",
       "    }\n",
       "\n",
       "    if(typeof define === \"function\" && define.amd) {\n",
       "      requirejs.config({paths});\n",
       "      require([\"vega-embed\"], displayChart, err => showError(`Error loading script: ${err.message}`));\n",
       "    } else {\n",
       "      maybeLoadScript(\"vega\", \"5\")\n",
       "        .then(() => maybeLoadScript(\"vega-lite\", \"5.15.1\"))\n",
       "        .then(() => maybeLoadScript(\"vega-embed\", \"6\"))\n",
       "        .catch(showError)\n",
       "        .then(() => displayChart(vegaEmbed));\n",
       "    }\n",
       "  })({\"config\": {\"view\": {\"continuousWidth\": 300, \"continuousHeight\": 300}}, \"data\": {\"name\": \"data-bf7fbf91b75b97786e3f540e6493d96b\"}, \"mark\": {\"type\": \"bar\"}, \"encoding\": {\"facet\": {\"columns\": 2, \"field\": \"pacbioRun\", \"title\": null, \"type\": \"nominal\"}, \"tooltip\": [{\"field\": \"category\", \"type\": \"nominal\"}, {\"field\": \"count\", \"type\": \"quantitative\"}, {\"field\": \"pacbioRun\", \"type\": \"nominal\"}, {\"field\": \"library\", \"type\": \"nominal\"}], \"x\": {\"field\": \"count\", \"type\": \"quantitative\"}, \"y\": {\"axis\": {\"title\": null}, \"field\": \"category\", \"type\": \"nominal\"}}, \"height\": 50, \"resolve\": {\"scale\": {\"x\": \"independent\", \"y\": \"independent\"}}, \"width\": 250, \"$schema\": \"https://vega.github.io/schema/vega-lite/v5.15.1.json\", \"datasets\": {\"data-bf7fbf91b75b97786e3f540e6493d96b\": [{\"category\": \"filtered PacBio_amplicon\", \"count\": 47061, \"pacbioRun\": \"E3E2_Lib_A_240719\", \"library\": \"E3E2_Lib_A\"}, {\"category\": \"aligned PacBio_amplicon\", \"count\": 731291, \"pacbioRun\": \"E3E2_Lib_A_240719\", \"library\": \"E3E2_Lib_A\"}, {\"category\": \"unmapped\", \"count\": 2202, \"pacbioRun\": \"E3E2_Lib_A_240719\", \"library\": \"E3E2_Lib_A\"}, {\"category\": \"filtered PacBio_amplicon\", \"count\": 47444, \"pacbioRun\": \"6KE1_Lib_B_240719\", \"library\": \"6KE1_Lib_B\"}, {\"category\": \"aligned PacBio_amplicon\", \"count\": 735259, \"pacbioRun\": \"6KE1_Lib_B_240719\", \"library\": \"6KE1_Lib_B\"}, {\"category\": \"unmapped\", \"count\": 3866, \"pacbioRun\": \"6KE1_Lib_B_240719\", \"library\": \"6KE1_Lib_B\"}, {\"category\": \"filtered PacBio_amplicon\", \"count\": 323979, \"pacbioRun\": \"E3E2_BCPCR_A_240719\", \"library\": \"E3E2_BCPCR_A\"}, {\"category\": \"aligned PacBio_amplicon\", \"count\": 392344, \"pacbioRun\": \"E3E2_BCPCR_A_240719\", \"library\": \"E3E2_BCPCR_A\"}, {\"category\": \"unmapped\", \"count\": 811, \"pacbioRun\": \"E3E2_BCPCR_A_240719\", \"library\": \"E3E2_BCPCR_A\"}, {\"category\": \"filtered PacBio_amplicon\", \"count\": 236475, \"pacbioRun\": \"6KE1_BCPCR_B_240719\", \"library\": \"6KE1_BCPCR_B\"}, {\"category\": \"aligned PacBio_amplicon\", \"count\": 347732, \"pacbioRun\": \"6KE1_BCPCR_B_240719\", \"library\": \"6KE1_BCPCR_B\"}, {\"category\": \"unmapped\", \"count\": 103, \"pacbioRun\": \"6KE1_BCPCR_B_240719\", \"library\": \"6KE1_BCPCR_B\"}, {\"category\": \"filtered PacBio_amplicon\", \"count\": 44444, \"pacbioRun\": \"E3E2_1_GS_240719\", \"library\": \"E3E2_1_GS\"}, {\"category\": \"aligned PacBio_amplicon\", \"count\": 812436, \"pacbioRun\": \"E3E2_1_GS_240719\", \"library\": \"E3E2_1_GS\"}, {\"category\": \"unmapped\", \"count\": 139, \"pacbioRun\": \"E3E2_1_GS_240719\", \"library\": \"E3E2_1_GS\"}, {\"category\": \"filtered PacBio_amplicon\", \"count\": 22918, \"pacbioRun\": \"6KE1_2_GS_240719\", \"library\": \"6KE1_2_GS\"}, {\"category\": \"aligned PacBio_amplicon\", \"count\": 327693, \"pacbioRun\": \"6KE1_2_GS_240719\", \"library\": \"6KE1_2_GS\"}, {\"category\": \"unmapped\", \"count\": 49, \"pacbioRun\": \"6KE1_2_GS_240719\", \"library\": \"6KE1_2_GS\"}]}}, {\"mode\": \"vega-lite\"});\n",
       "</script>"
      ],
      "text/plain": [
       "alt.Chart(...)"
      ]
     },
     "execution_count": 10,
     "metadata": {},
     "output_type": "execute_result"
    }
   ],
   "source": [
    "readstats = pd.concat(\n",
    "    [\n",
    "        (\n",
    "            pd.read_csv(os.path.join(row.subdir, \"readstats.csv\")).assign(\n",
    "                pacbioRun=row.pacbioRun, library=row.library\n",
    "            )\n",
    "        )\n",
    "        for row in pacbio_runs.itertuples()\n",
    "    ],\n",
    "    ignore_index=True,\n",
    ")\n",
    "\n",
    "readstats_chart = (\n",
    "    alt.Chart(readstats)\n",
    "    .encode(\n",
    "        x=\"count:Q\",\n",
    "        y=alt.Y(\n",
    "            \"category:N\",\n",
    "            axis=alt.Axis(title=None),\n",
    "        ),\n",
    "        tooltip=readstats.columns.tolist(),\n",
    "        facet=alt.Facet(\"pacbioRun:N\", columns=2, title=None),\n",
    "    )\n",
    "    .mark_bar()\n",
    "    .properties(width=250, height=50)\n",
    "    .resolve_scale(x=\"independent\", y=\"independent\")\n",
    ")\n",
    "\n",
    "readstats_chart"
   ]
  },
  {
   "cell_type": "markdown",
   "metadata": {},
   "source": [
    "## Visualize target to which reads are being aligned"
   ]
  },
  {
   "cell_type": "markdown",
   "metadata": {},
   "source": [
    "### Barcode PCR"
   ]
  },
  {
   "cell_type": "code",
   "execution_count": 16,
   "metadata": {
    "tags": []
   },
   "outputs": [
    {
     "name": "stderr",
     "output_type": "stream",
     "text": [
      "/home/whannon/miniforge3/envs/dms-vep-pipeline-3/lib/python3.11/site-packages/Bio/GenBank/Scanner.py:1217: BiopythonParserWarning: Premature end of file in sequence data\n",
      "  warnings.warn(\n",
      "/home/whannon/miniforge3/envs/dms-vep-pipeline-3/lib/python3.11/site-packages/Bio/GenBank/__init__.py:843: BiopythonParserWarning: Expected sequence length 3153, found 3112 (PacBio_amplicon).\n",
      "  warnings.warn(\n",
      "/home/whannon/miniforge3/envs/dms-vep-pipeline-3/lib/python3.11/site-packages/Bio/SeqFeature.py:230: BiopythonDeprecationWarning: Please use .location.strand rather than .strand\n",
      "  warnings.warn(\n"
     ]
    },
    {
     "data": {
      "image/png": "[encoded data removed]",
      "text/plain": [
       "<Figure size 700x200 with 1 Axes>"
      ]
     },
     "metadata": {},
     "output_type": "display_data"
    }
   ],
   "source": [
    "targets = alignparse.targets.Targets(\n",
    "    seqsfile = path_prefix + \"data/Barcode_PCR_amplicon.gb\",\n",
    "    feature_parse_specs = path_prefix + \"data/Barcode_PCR_feature_parse_specs.yaml\",\n",
    ")\n",
    "\n",
    "fig = targets.plot(\n",
    "    ax_width=7,\n",
    "    plots_indexing=\"genbank\",\n",
    "    ax_height=2,\n",
    "    hspace=1.2,\n",
    ")"
   ]
  },
  {
   "cell_type": "markdown",
   "metadata": {},
   "source": [
    "### Digested Plasmid Pool"
   ]
  },
  {
   "cell_type": "code",
   "execution_count": 17,
   "metadata": {},
   "outputs": [
    {
     "name": "stderr",
     "output_type": "stream",
     "text": [
      "/home/whannon/miniforge3/envs/dms-vep-pipeline-3/lib/python3.11/site-packages/Bio/GenBank/Scanner.py:1217: BiopythonParserWarning: Premature end of file in sequence data\n",
      "  warnings.warn(\n",
      "/home/whannon/miniforge3/envs/dms-vep-pipeline-3/lib/python3.11/site-packages/Bio/GenBank/__init__.py:843: BiopythonParserWarning: Expected sequence length 3153, found 3046 (PacBio_amplicon).\n",
      "  warnings.warn(\n",
      "/home/whannon/miniforge3/envs/dms-vep-pipeline-3/lib/python3.11/site-packages/Bio/SeqFeature.py:230: BiopythonDeprecationWarning: Please use .location.strand rather than .strand\n",
      "  warnings.warn(\n"
     ]
    },
    {
     "data": {
      "image/png": "[encoded data removed]",
      "text/plain": [
       "<Figure size 700x200 with 1 Axes>"
      ]
     },
     "metadata": {},
     "output_type": "display_data"
    }
   ],
   "source": [
    "targets = alignparse.targets.Targets(\n",
    "    seqsfile = path_prefix + \"data/Plasmid_Pool_amplicon.gb\",\n",
    "    feature_parse_specs = path_prefix + \"data/Plasmid_Pool_feature_parse_specs.yaml\",\n",
    ")\n",
    "\n",
    "fig = targets.plot(\n",
    "    ax_width=7,\n",
    "    plots_indexing=\"genbank\",\n",
    "    ax_height=2,\n",
    "    hspace=1.2,\n",
    ")"
   ]
  },
  {
   "cell_type": "markdown",
   "metadata": {},
   "source": [
    "### GenScript Product"
   ]
  },
  {
   "cell_type": "code",
   "execution_count": 19,
   "metadata": {},
   "outputs": [
    {
     "name": "stderr",
     "output_type": "stream",
     "text": [
      "/home/whannon/miniforge3/envs/dms-vep-pipeline-3/lib/python3.11/site-packages/Bio/GenBank/Scanner.py:1217: BiopythonParserWarning: Premature end of file in sequence data\n",
      "  warnings.warn(\n",
      "/home/whannon/miniforge3/envs/dms-vep-pipeline-3/lib/python3.11/site-packages/Bio/GenBank/__init__.py:843: BiopythonParserWarning: Expected sequence length 3153, found 3057 (PacBio_amplicon).\n",
      "  warnings.warn(\n",
      "/home/whannon/miniforge3/envs/dms-vep-pipeline-3/lib/python3.11/site-packages/Bio/SeqFeature.py:230: BiopythonDeprecationWarning: Please use .location.strand rather than .strand\n",
      "  warnings.warn(\n"
     ]
    },
    {
     "data": {
      "image/png": "[encoded data removed]",
      "text/plain": [
       "<Figure size 700x200 with 1 Axes>"
      ]
     },
     "metadata": {},
     "output_type": "display_data"
    }
   ],
   "source": [
    "targets = alignparse.targets.Targets(\n",
    "    seqsfile = path_prefix + \"data/Genscript_Product_amplicon.gb\",\n",
    "    feature_parse_specs = path_prefix + \"data/Genscript_Product_feature_parse_specs.yaml\",\n",
    ")\n",
    "\n",
    "fig = targets.plot(\n",
    "    ax_width=7,\n",
    "    plots_indexing=\"genbank\",\n",
    "    ax_height=2,\n",
    "    hspace=1.2,\n",
    ")"
   ]
  },
  {
   "cell_type": "markdown",
   "metadata": {},
   "source": [
    "## Why were some CCSs filtered?\n",
    "Plot the number of CCSs filtered for each reason:"
   ]
  },
  {
   "cell_type": "code",
   "execution_count": 15,
   "metadata": {
    "tags": []
   },
   "outputs": [
    {
     "data": {
      "text/html": [
       "\n",
       "<style>\n",
       "  #altair-viz-c643ddbcb57b4c3db896a9ad1df66c58.vega-embed {\n",
       "    width: 100%;\n",
       "    display: flex;\n",
       "  }\n",
       "\n",
       "  #altair-viz-c643ddbcb57b4c3db896a9ad1df66c58.vega-embed details,\n",
       "  #altair-viz-c643ddbcb57b4c3db896a9ad1df66c58.vega-embed details summary {\n",
       "    position: relative;\n",
       "  }\n",
       "</style>\n",
       "<div id=\"altair-viz-c643ddbcb57b4c3db896a9ad1df66c58\"></div>\n",
       "<script type=\"text/javascript\">\n",
       "  var VEGA_DEBUG = (typeof VEGA_DEBUG == \"undefined\") ? {} : VEGA_DEBUG;\n",
       "  (function(spec, embedOpt){\n",
       "    let outputDiv = document.currentScript.previousElementSibling;\n",
       "    if (outputDiv.id !== \"altair-viz-c643ddbcb57b4c3db896a9ad1df66c58\") {\n",
       "      outputDiv = document.getElementById(\"altair-viz-c643ddbcb57b4c3db896a9ad1df66c58\");\n",
       "    }\n",
       "    const paths = {\n",
       "      \"vega\": \"https://cdn.jsdelivr.net/npm/vega@5?noext\",\n",
       "      \"vega-lib\": \"https://cdn.jsdelivr.net/npm/vega-lib?noext\",\n",
       "      \"vega-lite\": \"https://cdn.jsdelivr.net/npm/vega-lite@5.15.1?noext\",\n",
       "      \"vega-embed\": \"https://cdn.jsdelivr.net/npm/vega-embed@6?noext\",\n",
       "    };\n",
       "\n",
       "    function maybeLoadScript(lib, version) {\n",
       "      var key = `${lib.replace(\"-\", \"\")}_version`;\n",
       "      return (VEGA_DEBUG[key] == version) ?\n",
       "        Promise.resolve(paths[lib]) :\n",
       "        new Promise(function(resolve, reject) {\n",
       "          var s = document.createElement('script');\n",
       "          document.getElementsByTagName(\"head\")[0].appendChild(s);\n",
       "          s.async = true;\n",
       "          s.onload = () => {\n",
       "            VEGA_DEBUG[key] = version;\n",
       "            return resolve(paths[lib]);\n",
       "          };\n",
       "          s.onerror = () => reject(`Error loading script: ${paths[lib]}`);\n",
       "          s.src = paths[lib];\n",
       "        });\n",
       "    }\n",
       "\n",
       "    function showError(err) {\n",
       "      outputDiv.innerHTML = `<div class=\"error\" style=\"color:red;\">${err}</div>`;\n",
       "      throw err;\n",
       "    }\n",
       "\n",
       "    function displayChart(vegaEmbed) {\n",
       "      vegaEmbed(outputDiv, spec, embedOpt)\n",
       "        .catch(err => showError(`Javascript Error: ${err.message}<br>This usually means there's a typo in your chart specification. See the javascript console for the full traceback.`));\n",
       "    }\n",
       "\n",
       "    if(typeof define === \"function\" && define.amd) {\n",
       "      requirejs.config({paths});\n",
       "      require([\"vega-embed\"], displayChart, err => showError(`Error loading script: ${err.message}`));\n",
       "    } else {\n",
       "      maybeLoadScript(\"vega\", \"5\")\n",
       "        .then(() => maybeLoadScript(\"vega-lite\", \"5.15.1\"))\n",
       "        .then(() => maybeLoadScript(\"vega-embed\", \"6\"))\n",
       "        .catch(showError)\n",
       "        .then(() => displayChart(vegaEmbed));\n",
       "    }\n",
       "  })({\"config\": {\"view\": {\"continuousWidth\": 300, \"continuousHeight\": 300}}, \"data\": {\"name\": \"data-0146693b510dc6e5c44a047093dcc215\"}, \"mark\": {\"type\": \"bar\"}, \"encoding\": {\"color\": {\"field\": \"is_aligned\", \"type\": \"nominal\"}, \"facet\": {\"columns\": 2, \"field\": \"pacbioRun\", \"title\": null, \"type\": \"nominal\"}, \"tooltip\": [{\"field\": \"pacbioRun\", \"type\": \"nominal\"}, {\"field\": \"filter_reason\", \"type\": \"nominal\"}, {\"field\": \"count\", \"type\": \"quantitative\"}, {\"field\": \"total_counts\", \"type\": \"quantitative\"}, {\"field\": \"frac_counts\", \"type\": \"quantitative\"}], \"x\": {\"field\": \"count\", \"type\": \"quantitative\"}, \"y\": {\"axis\": {\"title\": null}, \"field\": \"filter_reason\", \"type\": \"nominal\"}}, \"height\": 75, \"resolve\": {\"scale\": {\"x\": \"independent\", \"y\": \"independent\"}}, \"transform\": [{\"filter\": \"(datum.frac_counts > 0.01)\"}, {\"calculate\": \"(datum.filter_reason === 'aligned')\", \"as\": \"is_aligned\"}], \"width\": 250, \"$schema\": \"https://vega.github.io/schema/vega-lite/v5.15.1.json\", \"datasets\": {\"data-0146693b510dc6e5c44a047093dcc215\": [{\"pacbioRun\": \"6KE1_2_GS_240719\", \"filter_reason\": \"gene clip3\", \"count\": 3754, \"total_counts\": 350611, \"frac_counts\": 0.01070702288291012}, {\"pacbioRun\": \"6KE1_2_GS_240719\", \"filter_reason\": \"gene mutation_nt_count\", \"count\": 1333, \"total_counts\": 350611, \"frac_counts\": 0.003801934337485133}, {\"pacbioRun\": \"6KE1_2_GS_240719\", \"filter_reason\": \"query_clip3\", \"count\": 4173, \"total_counts\": 350611, \"frac_counts\": 0.011902079512622251}, {\"pacbioRun\": \"6KE1_2_GS_240719\", \"filter_reason\": \"query_clip5\", \"count\": 3654, \"total_counts\": 350611, \"frac_counts\": 0.010421806503503883}, {\"pacbioRun\": \"6KE1_2_GS_240719\", \"filter_reason\": \"termini5 clip5\", \"count\": 7698, \"total_counts\": 350611, \"frac_counts\": 0.02195595688669209}, {\"pacbioRun\": \"6KE1_2_GS_240719\", \"filter_reason\": \"termini5 mutation_nt_count\", \"count\": 2306, \"total_counts\": 350611, \"frac_counts\": 0.0065770897091078145}, {\"pacbioRun\": \"6KE1_BCPCR_B_240719\", \"filter_reason\": \"barcode clip3\", \"count\": 6445, \"total_counts\": 584207, \"frac_counts\": 0.011032048571824713}, {\"pacbioRun\": \"6KE1_BCPCR_B_240719\", \"filter_reason\": \"barcode mutation_nt_count\", \"count\": 21571, \"total_counts\": 584207, \"frac_counts\": 0.03692355620524917}, {\"pacbioRun\": \"6KE1_BCPCR_B_240719\", \"filter_reason\": \"gene clip3\", \"count\": 19748, \"total_counts\": 584207, \"frac_counts\": 0.03380308691953366}, {\"pacbioRun\": \"6KE1_BCPCR_B_240719\", \"filter_reason\": \"gene mutation_nt_count\", \"count\": 1036, \"total_counts\": 584207, \"frac_counts\": 0.0017733440373018468}, {\"pacbioRun\": \"6KE1_BCPCR_B_240719\", \"filter_reason\": \"query_clip3\", \"count\": 4561, \"total_counts\": 584207, \"frac_counts\": 0.007807164241441818}, {\"pacbioRun\": \"6KE1_BCPCR_B_240719\", \"filter_reason\": \"query_clip5\", \"count\": 11434, \"total_counts\": 584207, \"frac_counts\": 0.019571829847981965}, {\"pacbioRun\": \"6KE1_BCPCR_B_240719\", \"filter_reason\": \"termini3 clip3\", \"count\": 2706, \"total_counts\": 584207, \"frac_counts\": 0.004631919850327025}, {\"pacbioRun\": \"6KE1_BCPCR_B_240719\", \"filter_reason\": \"termini3 mutation_nt_count\", \"count\": 1772, \"total_counts\": 584207, \"frac_counts\": 0.003033171461485398}, {\"pacbioRun\": \"6KE1_BCPCR_B_240719\", \"filter_reason\": \"termini5 clip5\", \"count\": 165515, \"total_counts\": 584207, \"frac_counts\": 0.28331567406758223}, {\"pacbioRun\": \"6KE1_BCPCR_B_240719\", \"filter_reason\": \"termini5 mutation_nt_count\", \"count\": 1687, \"total_counts\": 584207, \"frac_counts\": 0.0028876750877685478}, {\"pacbioRun\": \"6KE1_Lib_B_240719\", \"filter_reason\": \"gene clip3\", \"count\": 7580, \"total_counts\": 782703, \"frac_counts\": 0.009684388586730855}, {\"pacbioRun\": \"6KE1_Lib_B_240719\", \"filter_reason\": \"gene clip5\", \"count\": 11188, \"total_counts\": 782703, \"frac_counts\": 0.014294055344108813}, {\"pacbioRun\": \"6KE1_Lib_B_240719\", \"filter_reason\": \"gene mutation_nt_count\", \"count\": 825, \"total_counts\": 782703, \"frac_counts\": 0.0010540396548882527}, {\"pacbioRun\": \"6KE1_Lib_B_240719\", \"filter_reason\": \"query_clip3\", \"count\": 25291, \"total_counts\": 782703, \"frac_counts\": 0.03231238413548945}, {\"pacbioRun\": \"6KE1_Lib_B_240719\", \"filter_reason\": \"query_clip5\", \"count\": 2414, \"total_counts\": 782703, \"frac_counts\": 0.0030841839113942325}, {\"pacbioRun\": \"6KE1_Lib_B_240719\", \"filter_reason\": \"termini5 mutation_nt_count\", \"count\": 146, \"total_counts\": 782703, \"frac_counts\": 0.00018653307831961805}, {\"pacbioRun\": \"E3E2_1_GS_240719\", \"filter_reason\": \"gene clip3\", \"count\": 5833, \"total_counts\": 856880, \"frac_counts\": 0.006807254224628886}, {\"pacbioRun\": \"E3E2_1_GS_240719\", \"filter_reason\": \"gene mutation_nt_count\", \"count\": 2744, \"total_counts\": 856880, \"frac_counts\": 0.0032023153767155262}, {\"pacbioRun\": \"E3E2_1_GS_240719\", \"filter_reason\": \"query_clip3\", \"count\": 7188, \"total_counts\": 856880, \"frac_counts\": 0.008388572495565306}, {\"pacbioRun\": \"E3E2_1_GS_240719\", \"filter_reason\": \"query_clip5\", \"count\": 10050, \"total_counts\": 856880, \"frac_counts\": 0.011728596769676034}, {\"pacbioRun\": \"E3E2_1_GS_240719\", \"filter_reason\": \"termini5 clip5\", \"count\": 14028, \"total_counts\": 856880, \"frac_counts\": 0.01637102044627019}, {\"pacbioRun\": \"E3E2_1_GS_240719\", \"filter_reason\": \"termini5 mutation_nt_count\", \"count\": 4601, \"total_counts\": 856880, \"frac_counts\": 0.00536947997385865}, {\"pacbioRun\": \"E3E2_BCPCR_A_240719\", \"filter_reason\": \"barcode clip3\", \"count\": 10025, \"total_counts\": 716323, \"frac_counts\": 0.013995083223629563}, {\"pacbioRun\": \"E3E2_BCPCR_A_240719\", \"filter_reason\": \"barcode mutation_nt_count\", \"count\": 24615, \"total_counts\": 716323, \"frac_counts\": 0.03436298988026351}, {\"pacbioRun\": \"E3E2_BCPCR_A_240719\", \"filter_reason\": \"gene clip3\", \"count\": 27137, \"total_counts\": 716323, \"frac_counts\": 0.03788374797402848}, {\"pacbioRun\": \"E3E2_BCPCR_A_240719\", \"filter_reason\": \"gene mutation_nt_count\", \"count\": 1273, \"total_counts\": 716323, \"frac_counts\": 0.0017771312662025372}, {\"pacbioRun\": \"E3E2_BCPCR_A_240719\", \"filter_reason\": \"query_clip3\", \"count\": 5368, \"total_counts\": 716323, \"frac_counts\": 0.007493826109171421}, {\"pacbioRun\": \"E3E2_BCPCR_A_240719\", \"filter_reason\": \"query_clip5\", \"count\": 15557, \"total_counts\": 716323, \"frac_counts\": 0.021717856330175075}, {\"pacbioRun\": \"E3E2_BCPCR_A_240719\", \"filter_reason\": \"termini3 clip3\", \"count\": 4433, \"total_counts\": 716323, \"frac_counts\": 0.006188549020483776}, {\"pacbioRun\": \"E3E2_BCPCR_A_240719\", \"filter_reason\": \"termini3 mutation_nt_count\", \"count\": 2214, \"total_counts\": 716323, \"frac_counts\": 0.00309078446455021}, {\"pacbioRun\": \"E3E2_BCPCR_A_240719\", \"filter_reason\": \"termini5 clip5\", \"count\": 231240, \"total_counts\": 716323, \"frac_counts\": 0.3228152662974664}, {\"pacbioRun\": \"E3E2_BCPCR_A_240719\", \"filter_reason\": \"termini5 mutation_nt_count\", \"count\": 2117, \"total_counts\": 716323, \"frac_counts\": 0.002955370691713096}, {\"pacbioRun\": \"E3E2_Lib_A_240719\", \"filter_reason\": \"gene clip3\", \"count\": 7873, \"total_counts\": 778352, \"frac_counts\": 0.010114960840339589}, {\"pacbioRun\": \"E3E2_Lib_A_240719\", \"filter_reason\": \"gene clip5\", \"count\": 11182, \"total_counts\": 778352, \"frac_counts\": 0.014366250745164141}, {\"pacbioRun\": \"E3E2_Lib_A_240719\", \"filter_reason\": \"gene mutation_nt_count\", \"count\": 871, \"total_counts\": 778352, \"frac_counts\": 0.0011190309782720415}, {\"pacbioRun\": \"E3E2_Lib_A_240719\", \"filter_reason\": \"query_clip3\", \"count\": 24497, \"total_counts\": 778352, \"frac_counts\": 0.031472906859621355}, {\"pacbioRun\": \"E3E2_Lib_A_240719\", \"filter_reason\": \"query_clip5\", \"count\": 2537, \"total_counts\": 778352, \"frac_counts\": 0.0032594507369416406}, {\"pacbioRun\": \"E3E2_Lib_A_240719\", \"filter_reason\": \"termini5 mutation_nt_count\", \"count\": 101, \"total_counts\": 778352, \"frac_counts\": 0.00012976134191214258}, {\"pacbioRun\": \"6KE1_2_GS_240719\", \"filter_reason\": \"aligned\", \"count\": 327693, \"total_counts\": 350611, \"frac_counts\": 0.9346341101676787}, {\"pacbioRun\": \"6KE1_BCPCR_B_240719\", \"filter_reason\": \"aligned\", \"count\": 347732, \"total_counts\": 584207, \"frac_counts\": 0.5952205297095037}, {\"pacbioRun\": \"6KE1_Lib_B_240719\", \"filter_reason\": \"aligned\", \"count\": 735259, \"total_counts\": 782703, \"frac_counts\": 0.9393844152890688}, {\"pacbioRun\": \"E3E2_1_GS_240719\", \"filter_reason\": \"aligned\", \"count\": 812436, \"total_counts\": 856880, \"frac_counts\": 0.9481327607132854}, {\"pacbioRun\": \"E3E2_BCPCR_A_240719\", \"filter_reason\": \"aligned\", \"count\": 392344, \"total_counts\": 716323, \"frac_counts\": 0.547719394742316}, {\"pacbioRun\": \"E3E2_Lib_A_240719\", \"filter_reason\": \"aligned\", \"count\": 731291, \"total_counts\": 778352, \"frac_counts\": 0.9395376384977491}]}}, {\"mode\": \"vega-lite\"});\n",
       "</script>"
      ],
      "text/plain": [
       "alt.Chart(...)"
      ]
     },
     "execution_count": 15,
     "metadata": {},
     "output_type": "execute_result"
    }
   ],
   "source": [
    "# CSVs holding filtered reads\n",
    "filtered_csvs = pd.concat(\n",
    "    [\n",
    "        (\n",
    "            pd.read_csv(os.path.join(row.subdir, \"filtered.csv\")).assign(\n",
    "                pacbioRun=row.pacbioRun, library=row.library\n",
    "            )\n",
    "        )\n",
    "        for row in pacbio_runs.itertuples()\n",
    "    ],\n",
    "    ignore_index=True,\n",
    ")\n",
    "\n",
    "# details for all filtered reads\n",
    "filtered = pd.concat(\n",
    "    [\n",
    "        pd.read_csv(path_prefix + row.csv_file).assign(\n",
    "            target=row.target, pacbioRun=row.pacbioRun, library=row.library\n",
    "        )\n",
    "        for row in filtered_csvs.itertuples()\n",
    "    ],\n",
    "    ignore_index=True,\n",
    ")\n",
    "\n",
    "# count reasons for filtering, then add number of non-filtered\n",
    "filtered_reasons = pd.concat(\n",
    "    [\n",
    "        filtered.groupby([\"pacbioRun\", \"filter_reason\"], as_index=False).aggregate(\n",
    "            count=pd.NamedAgg(\"query_name\", \"count\")\n",
    "        ),\n",
    "        readstats.query('category.str.startswith(\"aligned\")', engine=\"python\")\n",
    "        .groupby(\"pacbioRun\", as_index=False)\n",
    "        .aggregate({\"count\": \"sum\"})\n",
    "        .assign(filter_reason=\"aligned\"),\n",
    "    ]\n",
    ").assign(\n",
    "    total_counts=lambda x: x.groupby(\"pacbioRun\")[\"count\"].transform(\"sum\"),\n",
    "    frac_counts=lambda x: x[\"count\"] / x[\"total_counts\"],\n",
    ")\n",
    "\n",
    "# make chart\n",
    "filtered_chart = (\n",
    "    alt.Chart(filtered_reasons)\n",
    "    .encode(\n",
    "        x=\"count:Q\",\n",
    "        y=alt.Y(\n",
    "            \"filter_reason:N\",\n",
    "            axis=alt.Axis(title=None),\n",
    "        ),\n",
    "        color=\"is_aligned:N\",\n",
    "        tooltip=filtered_reasons.columns.tolist(),\n",
    "        facet=alt.Facet(\"pacbioRun:N\", columns=2, title=None),\n",
    "    )\n",
    "    .mark_bar()\n",
    "    .properties(width=250, height=75)\n",
    "    .resolve_scale(x=\"independent\", y=\"independent\")\n",
    "    .transform_filter(alt.datum.frac_counts > 0.01)\n",
    "    .transform_calculate(is_aligned=alt.datum.filter_reason == \"aligned\")\n",
    ")\n",
    "\n",
    "filtered_chart"
   ]
  },
  {
   "cell_type": "markdown",
   "metadata": {},
   "source": [
    "## Get CCSs that align to the amplicon"
   ]
  },
  {
   "cell_type": "code",
   "execution_count": 22,
   "metadata": {
    "tags": []
   },
   "outputs": [
    {
     "name": "stdout",
     "output_type": "stream",
     "text": [
      "\n",
      "Read 3.347e+06 alignable CCSs:\n"
     ]
    },
    {
     "data": {
      "text/html": [
       "<div>\n",
       "<style scoped>\n",
       "    .dataframe tbody tr th:only-of-type {\n",
       "        vertical-align: middle;\n",
       "    }\n",
       "\n",
       "    .dataframe tbody tr th {\n",
       "        vertical-align: top;\n",
       "    }\n",
       "\n",
       "    .dataframe thead th {\n",
       "        text-align: right;\n",
       "    }\n",
       "</style>\n",
       "<table border=\"1\" class=\"dataframe\">\n",
       "  <thead>\n",
       "    <tr style=\"text-align: right;\">\n",
       "      <th></th>\n",
       "      <th>n_CCSs</th>\n",
       "    </tr>\n",
       "    <tr>\n",
       "      <th>pacbioRun</th>\n",
       "      <th></th>\n",
       "    </tr>\n",
       "  </thead>\n",
       "  <tbody>\n",
       "    <tr>\n",
       "      <th>6KE1_2_GS_240719</th>\n",
       "      <td>327693</td>\n",
       "    </tr>\n",
       "    <tr>\n",
       "      <th>6KE1_BCPCR_B_240719</th>\n",
       "      <td>347732</td>\n",
       "    </tr>\n",
       "    <tr>\n",
       "      <th>6KE1_Lib_B_240719</th>\n",
       "      <td>735259</td>\n",
       "    </tr>\n",
       "    <tr>\n",
       "      <th>E3E2_1_GS_240719</th>\n",
       "      <td>812436</td>\n",
       "    </tr>\n",
       "    <tr>\n",
       "      <th>E3E2_BCPCR_A_240719</th>\n",
       "      <td>392344</td>\n",
       "    </tr>\n",
       "    <tr>\n",
       "      <th>E3E2_Lib_A_240719</th>\n",
       "      <td>731291</td>\n",
       "    </tr>\n",
       "  </tbody>\n",
       "</table>\n",
       "</div>"
      ],
      "text/plain": [
       "                     n_CCSs\n",
       "pacbioRun                  \n",
       "6KE1_2_GS_240719     327693\n",
       "6KE1_BCPCR_B_240719  347732\n",
       "6KE1_Lib_B_240719    735259\n",
       "E3E2_1_GS_240719     812436\n",
       "E3E2_BCPCR_A_240719  392344\n",
       "E3E2_Lib_A_240719    731291"
      ]
     },
     "metadata": {},
     "output_type": "display_data"
    },
    {
     "name": "stdout",
     "output_type": "stream",
     "text": [
      "Writing to ../results/process_ccs/CCSs_aligned_to_amplicon.csv\n"
     ]
    }
   ],
   "source": [
    "# CSVs holding aligned reads\n",
    "aligned_csvs = pd.concat(\n",
    "    [\n",
    "        (\n",
    "            pd.read_csv(os.path.join(row.subdir, \"aligned.csv\")).assign(\n",
    "                pacbioRun=row.pacbioRun, library=row.library\n",
    "            )\n",
    "        )\n",
    "        for row in pacbio_runs.itertuples()\n",
    "    ],\n",
    "    ignore_index=True,\n",
    ")\n",
    "\n",
    "assert aligned_csvs[\"target\"].nunique() == 1\n",
    "\n",
    "aligned = pd.concat(\n",
    "    [\n",
    "        (\n",
    "            pd.read_csv(path_prefix + row.csv_file)\n",
    "            .assign(pacbioRun=row.pacbioRun, library=row.library)\n",
    "            .drop(columns=[\"query_clip5\", \"query_clip3\"])\n",
    "            .rename(columns={\"barcode_sequence\": \"barcode\"})\n",
    "        )\n",
    "        for row in aligned_csvs.itertuples()\n",
    "    ],\n",
    "    ignore_index=True,\n",
    ")\n",
    "print(f\"\\nRead {len(aligned):.4g} alignable CCSs:\")\n",
    "display(\n",
    "    aligned.groupby(\"pacbioRun\").aggregate(n_CCSs=pd.NamedAgg(\"query_name\", \"count\"))\n",
    ")\n",
    "output_csv = path_prefix + \"results/CCSs_aligned_to_amplicon.csv\"\n",
    "print(f\"Writing to {output_csv}\")\n",
    "aligned.to_csv(output_csv, index=False)"
   ]
  }
 ],
 "metadata": {
  "kernelspec": {
   "display_name": "Python 3 (ipykernel)",
   "language": "python",
   "name": "python3"
  },
  "language_info": {
   "codemirror_mode": {
    "name": "ipython",
    "version": 3
   },
   "file_extension": ".py",
   "mimetype": "text/x-python",
   "name": "python",
   "nbconvert_exporter": "python",
   "pygments_lexer": "ipython3",
   "version": "3.11.9"
  }
 },
 "nbformat": 4,
 "nbformat_minor": 4
}
