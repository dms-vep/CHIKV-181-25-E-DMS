{
 "cells": [
  {
   "cell_type": "code",
   "execution_count": 29,
   "metadata": {},
   "outputs": [],
   "source": [
    "import math\n",
    "import os\n",
    "import shutil\n",
    "import altair as alt\n",
    "import numpy as np\n",
    "import pandas as pd\n",
    "import scipy.stats\n",
    "import Bio.SeqIO\n",
    "import yaml\n",
    "import csv\n",
    "import subprocess\n",
    "import pandas as pd"
   ]
  },
  {
   "cell_type": "code",
   "execution_count": 30,
   "metadata": {},
   "outputs": [],
   "source": [
    "\n",
    "# Load the CSV file\n",
    "df = pd.read_csv('../../results/annotated_summary_csvs/entry_293T-Mxra8_C636_293T-TIM1_Mxra8-binding_annotated_site_means.csv')\n",
    "\n",
    "# Select and clean relevant columns\n",
    "columns_to_keep = ['protein_site', 'entry in 293T_Mxra8 cells', '6nk7_chain']\n",
    "new_df = df[columns_to_keep].copy()\n",
    "\n",
    "# Convert 'protein_site' to numeric, drop NaNs, and cast to int\n",
    "new_df['protein_site'] = pd.to_numeric(new_df['protein_site'], errors='coerce')\n",
    "new_df = new_df.dropna(subset=['protein_site'])\n",
    "new_df['protein_site'] = new_df['protein_site'].astype(int)\n",
    "\n",
    "# Save the cleaned DataFrame\n",
    "output_path = '../../manual_analyses/chimera_structures/results/293T-Mxra8_entry_func_effects_mean.csv'\n",
    "\n",
    "new_df.to_csv(output_path, index=False)"
   ]
  },
  {
   "cell_type": "code",
   "execution_count": 31,
   "metadata": {},
   "outputs": [],
   "source": [
    "# prepare data in chimera format\n",
    "def aggregate_entry_mean(infile, name, outfile):\n",
    "    tmp_df = pd.read_csv(infile)\n",
    "    tmp_df = tmp_df.round(3)\n",
    "\n",
    "    # Modify the dataframe to prepend a tab character and format as strings\n",
    "    tmp_df[\"protein_site\"] = tmp_df[\"protein_site\"].astype(str)\n",
    "    tmp_df[\"entry in 293T_Mxra8 cells\"] = tmp_df[\"entry in 293T_Mxra8 cells\"].astype(str)\n",
    "    tmp_df[\"formatted\"] = \"\\t\" + \"/\"  + tmp_df['6nk7_chain'] + \":\" + tmp_df[\"protein_site\"] + \"\\t\" + tmp_df[\"entry in 293T_Mxra8 cells\"]\n",
    "\n",
    "    with open(outfile, \"w\") as f:\n",
    "        # Write header lines\n",
    "        f.write(f\"attribute: {name}\\n\")\n",
    "        f.write(\"match mode: any\\n\")\n",
    "        f.write(\"recipient: residues\\n\")\n",
    "\n",
    "    # Append the tab separated dataframe to the file without quotes and with an escape character\n",
    "    tmp_df[\"formatted\"].to_csv(outfile, sep=\"\\t\", index=False, header=False, mode=\"a\")\n",
    "    subprocess.run([\"sed\", \"-i\", 's/\"//g', outfile], check=True)\n",
    "\n",
    "# Call function above\n",
    "aggregate_entry_mean('../../manual_analyses/chimera_structures/results/293T-Mxra8_entry_func_effects_mean.csv', \"entry\", '../../manual_analyses/chimera_structures/results/293T-Mxra8_entry_func_effects.defattr')\n"
   ]
  }
 ],
 "metadata": {
  "kernelspec": {
   "display_name": "dms-vep-pipeline-3",
   "language": "python",
   "name": "python3"
  },
  "language_info": {
   "codemirror_mode": {
    "name": "ipython",
    "version": 3
   },
   "file_extension": ".py",
   "mimetype": "text/x-python",
   "name": "python",
   "nbconvert_exporter": "python",
   "pygments_lexer": "ipython3",
   "version": "3.12.8"
  }
 },
 "nbformat": 4,
 "nbformat_minor": 2
}
