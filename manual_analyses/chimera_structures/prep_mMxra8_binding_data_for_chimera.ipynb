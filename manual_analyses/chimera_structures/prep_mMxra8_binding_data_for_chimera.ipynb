{
 "cells": [
  {
   "cell_type": "code",
   "execution_count": 16,
   "metadata": {},
   "outputs": [],
   "source": [
    "import pandas as pd\n",
    "import subprocess"
   ]
  },
  {
   "cell_type": "code",
   "execution_count": 17,
   "metadata": {},
   "outputs": [
    {
     "name": "stdout",
     "output_type": "stream",
     "text": [
      "Saved 937 rows to ../../manual_analyses/chimera_structures/results/mMxra8_binding_sum.csv\n"
     ]
    }
   ],
   "source": [
    "# Load the CSV file\n",
    "df = pd.read_csv('../../results/compare_human_mouse_mxra8/site_binding.csv')\n",
    "\n",
    "# Filter: keep only rows of mouse_Mxra8\n",
    "df = df[df['ligand'] == 'mouse_Mxra8']\n",
    "\n",
    "# Select and clean relevant columns\n",
    "columns_to_keep = ['protein_site', 'summed_effect', '6nk7_chain']\n",
    "new_df = df[columns_to_keep].copy()\n",
    "\n",
    "# Drop rows where 'protein_site' is missing or not finite\n",
    "new_df = new_df.dropna(subset=['protein_site'])\n",
    "\n",
    "# Convert 'protein_site' to integer\n",
    "new_df['protein_site'] = new_df['protein_site'].astype(int)\n",
    "\n",
    "# Save the cleaned DataFrame\n",
    "output_path = '../../manual_analyses/chimera_structures/results/mMxra8_binding_sum.csv'\n",
    "new_df.to_csv(output_path, index=False)\n",
    "\n",
    "# Optional: confirm success\n",
    "print(f\"Saved {len(new_df)} rows to {output_path}\")\n"
   ]
  },
  {
   "cell_type": "code",
   "execution_count": 18,
   "metadata": {},
   "outputs": [],
   "source": [
    "# prepare data in chimera format\n",
    "def aggregate_binding_mean(infile, name, outfile):\n",
    "    tmp_df = pd.read_csv(infile)\n",
    "    tmp_df = tmp_df.round(3)\n",
    "\n",
    "    # Modify the dataframe to prepend a tab character and format as strings\n",
    "    tmp_df[\"protein_site\"] = tmp_df[\"protein_site\"].astype(str)\n",
    "    tmp_df[\"summed_effect\"] = tmp_df[\"summed_effect\"].astype(str)\n",
    "    tmp_df[\"formatted\"] = \"\\t\" + \"/\"  + tmp_df['6nk7_chain'] + \":\" + tmp_df[\"protein_site\"] + \"\\t\" + tmp_df[\"summed_effect\"]\n",
    "\n",
    "    with open(outfile, \"w\") as f:\n",
    "        # Write header lines\n",
    "        f.write(f\"attribute: {name}\\n\")\n",
    "        f.write(\"match mode: any\\n\")\n",
    "        f.write(\"recipient: residues\\n\")\n",
    "\n",
    "    # Append the tab separated dataframe to the file without quotes and with an escape character\n",
    "    tmp_df[\"formatted\"].to_csv(outfile, sep=\"\\t\", index=False, header=False, mode=\"a\")\n",
    "    subprocess.run([\"sed\", \"-i\", 's/\"//g', outfile], check=True)\n",
    "\n",
    "# Call function above\n",
    "aggregate_binding_mean('../../manual_analyses/chimera_structures/results/mMxra8_binding_sum.csv', \"binding\", '../../manual_analyses/chimera_structures/results/mMxra8_binding_sum.defattr')\n"
   ]
  }
 ],
 "metadata": {
  "kernelspec": {
   "display_name": "dms-vep-pipeline-3",
   "language": "python",
   "name": "python3"
  },
  "language_info": {
   "codemirror_mode": {
    "name": "ipython",
    "version": 3
   },
   "file_extension": ".py",
   "mimetype": "text/x-python",
   "name": "python",
   "nbconvert_exporter": "python",
   "pygments_lexer": "ipython3",
   "version": "3.12.8"
  }
 },
 "nbformat": 4,
 "nbformat_minor": 2
}
