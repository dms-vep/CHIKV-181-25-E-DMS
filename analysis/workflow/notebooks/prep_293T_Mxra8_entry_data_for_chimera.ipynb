{
 "cells": [
  {
   "cell_type": "code",
   "execution_count": 11,
   "metadata": {},
   "outputs": [],
   "source": [
    "import math\n",
    "import os\n",
    "import shutil\n",
    "import altair as alt\n",
    "import numpy as np\n",
    "import pandas as pd\n",
    "import scipy.stats\n",
    "import Bio.SeqIO\n",
    "import yaml\n",
    "import csv\n",
    "import subprocess"
   ]
  },
  {
   "cell_type": "code",
   "execution_count": 12,
   "metadata": {},
   "outputs": [],
   "source": [
    "# prepare data in chimera format\n",
    "def aggregate_entry_mean(infile, name, outfile):\n",
    "    tmp_df = pd.read_csv(infile)\n",
    "    tmp_df = tmp_df.round(3)\n",
    "\n",
    "    # Modify the dataframe to prepend a tab character and format as strings\n",
    "    tmp_df[\"protein_site\"] = tmp_df[\"protein_site\"].astype(str)\n",
    "    tmp_df[\"entry in 293T_Mxra8 cells\"] = tmp_df[\"entry in 293T_Mxra8 cells\"].astype(str)\n",
    "    tmp_df[\"formatted\"] = \"\\t\" + \"/\"  + tmp_df['6nk7_chain'] + \":\" + tmp_df[\"protein_site\"] + \"\\t\" + tmp_df[\"entry in 293T_Mxra8 cells\"]\n",
    "\n",
    "    with open(outfile, \"w\") as f:\n",
    "        # Write header lines\n",
    "        f.write(f\"attribute: {name}\\n\")\n",
    "        f.write(\"match mode: any\\n\")\n",
    "        f.write(\"recipient: residues\\n\")\n",
    "\n",
    "    # Append the tab separated dataframe to the file without quotes and with an escape character\n",
    "    tmp_df[\"formatted\"].to_csv(outfile, sep=\"\\t\", index=False, header=False, mode=\"a\")\n",
    "    subprocess.run([\"sed\", \"-i\", 's/\"//g', outfile], check=True)\n",
    "\n",
    "# Call function above\n",
    "aggregate_entry_mean('../../../analysis/results/filtered_data/cell_entry/293T-Mxra8_entry_func_effects_mean.csv', \"entry\", '../../../analysis/chimera/cell_entry/293T-Mxra8_entry_func_effects.defattr')\n"
   ]
  },
  {
   "cell_type": "code",
   "execution_count": null,
   "metadata": {},
   "outputs": [],
   "source": []
  }
 ],
 "metadata": {
  "kernelspec": {
   "display_name": "dms-vep-pipeline-3",
   "language": "python",
   "name": "python3"
  },
  "language_info": {
   "codemirror_mode": {
    "name": "ipython",
    "version": 3
   },
   "file_extension": ".py",
   "mimetype": "text/x-python",
   "name": "python",
   "nbconvert_exporter": "python",
   "pygments_lexer": "ipython3",
   "version": "3.12.8"
  }
 },
 "nbformat": 4,
 "nbformat_minor": 2
}
