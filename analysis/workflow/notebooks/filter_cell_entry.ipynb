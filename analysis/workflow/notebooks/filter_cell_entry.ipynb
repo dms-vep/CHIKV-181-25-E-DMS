{
 "cells": [
  {
   "cell_type": "code",
   "execution_count": 41,
   "metadata": {},
   "outputs": [],
   "source": [
    "import pandas as pd"
   ]
  },
  {
   "cell_type": "code",
   "execution_count": 42,
   "metadata": {},
   "outputs": [],
   "source": [
    "import pandas as pd\n",
    "\n",
    "# Load the CSV file\n",
    "df = pd.read_csv('../../../results/annotated_summary_csvs/entry_293T-Mxra8_C636_293T-TIM1_Mxra8-binding_annotated_site_means.csv')\n",
    "\n",
    "# Select and clean relevant columns\n",
    "columns_to_keep = ['protein_site', 'entry in 293T_Mxra8 cells', '6nk7_chain']\n",
    "new_df = df[columns_to_keep].copy()\n",
    "\n",
    "# Convert 'protein_site' to numeric, drop NaNs, and cast to int\n",
    "new_df['protein_site'] = pd.to_numeric(new_df['protein_site'], errors='coerce')\n",
    "new_df = new_df.dropna(subset=['protein_site'])\n",
    "new_df['protein_site'] = new_df['protein_site'].astype(int)\n",
    "\n",
    "# Save the cleaned DataFrame\n",
    "output_path = '../../../analysis/results/filtered_data/cell_entry/293T-Mxra8_entry_func_effects_mean.csv'\n",
    "new_df.to_csv(output_path, index=False)\n"
   ]
  },
  {
   "cell_type": "code",
   "execution_count": null,
   "metadata": {},
   "outputs": [],
   "source": []
  }
 ],
 "metadata": {
  "kernelspec": {
   "display_name": "dms-vep-pipeline-3",
   "language": "python",
   "name": "python3"
  },
  "language_info": {
   "codemirror_mode": {
    "name": "ipython",
    "version": 3
   },
   "file_extension": ".py",
   "mimetype": "text/x-python",
   "name": "python",
   "nbconvert_exporter": "python",
   "pygments_lexer": "ipython3",
   "version": "3.12.8"
  }
 },
 "nbformat": 4,
 "nbformat_minor": 2
}
