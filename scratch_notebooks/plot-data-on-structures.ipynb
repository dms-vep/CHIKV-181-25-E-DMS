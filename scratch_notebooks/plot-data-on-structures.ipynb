{
 "cells": [
  {
   "cell_type": "markdown",
   "metadata": {},
   "source": [
    "# Plot data on structures\n",
    "\n",
    "The goal of this notebook is to plot the data on various CHIKV structures using [`dms-viz`](https://dms-viz.github.io/v0/). [Here's](https://dms-viz.github.io/dms-viz-docs/) the documentation for `dms-viz`. Unfortunately, it's a little slow on larger structures and big datasets like this. You might have to wait a bit for your interactions to register.\n",
    "\n",
    "There are two papers that elucidate the structure of CHIKV E in complex with Mxra8——[this paper](https://www.sciencedirect.com/science/article/pii/S0092867419303940?via%3Dihub) and [this paper](https://www.cell.com/cell/pdf/S0092-8674(19)30392-7.pdf).\n",
    "\n",
    "For several reasons, I think the structure from [Micheal Diamond and Daved Fremont's paper](https://www.cell.com/cell/pdf/S0092-8674(19)30392-7.pdf) is better suited for viewing our data. They used a combination of X-ray crystallography, Cryo-EM of viral particles, and computational reconstruction to get structures of 'mature' CHIKV E  in complex with mouse Mxra8 on [VLPs](https://www.rcsb.org/structure/6NK6) and [infectious particles](https://www.rcsb.org/structure/6NK7). It’s easy to orient yourself visually with these structures because they contain the transmembrane domain and capsid; The models reflect the T=4 symmetry of CHIKV E, making it easy to show all 4 binding ‘sites’ with Mxra8; There are structures with (from infectious particles) and without (from the VLP) E3 retention.\n",
    "\n",
    "In this notebook, I'll plot the functional scores and the difference in functional scores between cell types on the [VLP](https://www.rcsb.org/structure/6NK6) and [infectious particle](https://www.rcsb.org/structure/6NK7) structures.\n"
   ]
  },
  {
   "cell_type": "code",
   "execution_count": 116,
   "metadata": {},
   "outputs": [],
   "source": [
    "import pandas as pd\n",
    "import os\n",
    "import sys"
   ]
  },
  {
   "cell_type": "markdown",
   "metadata": {},
   "source": [
    "## Data Processing\n",
    "\n",
    "In this section, I'll combine, filter, annotate, and calculate the difference between functional selection scores. First, I'll combine the average functional scores——the effect of mutations on cell entry——for each cell type into a single dataset."
   ]
  },
  {
   "cell_type": "code",
   "execution_count": 117,
   "metadata": {},
   "outputs": [],
   "source": [
    "# Average *observed* effect on cell entry for each cell line\n",
    "TIM1_func_effects = pd.read_csv('../results/func_effects/averages/293T-TIM1_entry_func_effects.csv')\n",
    "TIM1_func_effects[\"condition\"] = 'TIM1'\n",
    "MXRA8_func_effects = pd.read_csv('../results/func_effects/averages/293T-Mxra8_entry_func_effects.csv')\n",
    "MXRA8_func_effects[\"condition\"] = 'MXRA8'\n",
    "C636_func_effects = pd.read_csv('../results/func_effects/averages/C636_entry_func_effects.csv')\n",
    "C636_func_effects[\"condition\"] = 'C636'"
   ]
  },
  {
   "cell_type": "code",
   "execution_count": 118,
   "metadata": {},
   "outputs": [],
   "source": [
    "# Annotations for each site in CHIKV E\n",
    "CHIKV_E_sitemap = pd.read_csv('./dms-viz/sitemap/CHIKV_sitemap.csv')\n",
    "CHIKV_E_annotations = CHIKV_E_sitemap.rename(columns={'sequential_site': 'site'})\n",
    "# Replace NaN with empty strings for annotations\n",
    "columns_to_replace = ['domain', 'contacts']\n",
    "CHIKV_E_annotations[columns_to_replace] = CHIKV_E_annotations[columns_to_replace].fillna('')"
   ]
  },
  {
   "cell_type": "code",
   "execution_count": 119,
   "metadata": {},
   "outputs": [
    {
     "data": {
      "text/html": [
       "<div>\n",
       "<style scoped>\n",
       "    .dataframe tbody tr th:only-of-type {\n",
       "        vertical-align: middle;\n",
       "    }\n",
       "\n",
       "    .dataframe tbody tr th {\n",
       "        vertical-align: top;\n",
       "    }\n",
       "\n",
       "    .dataframe thead th {\n",
       "        text-align: right;\n",
       "    }\n",
       "</style>\n",
       "<table border=\"1\" class=\"dataframe\">\n",
       "  <thead>\n",
       "    <tr style=\"text-align: right;\">\n",
       "      <th></th>\n",
       "      <th>site</th>\n",
       "      <th>wildtype</th>\n",
       "      <th>mutant</th>\n",
       "      <th>effect</th>\n",
       "      <th>effect_std</th>\n",
       "      <th>times_seen</th>\n",
       "      <th>n_selections</th>\n",
       "      <th>condition</th>\n",
       "      <th>region</th>\n",
       "      <th>immature_numbering</th>\n",
       "      <th>mature_numbering</th>\n",
       "      <th>domain</th>\n",
       "      <th>contacts</th>\n",
       "    </tr>\n",
       "  </thead>\n",
       "  <tbody>\n",
       "    <tr>\n",
       "      <th>0</th>\n",
       "      <td>1</td>\n",
       "      <td>M</td>\n",
       "      <td>I</td>\n",
       "      <td>-5.765</td>\n",
       "      <td>0.008958</td>\n",
       "      <td>17.25</td>\n",
       "      <td>4</td>\n",
       "      <td>TIM1</td>\n",
       "      <td>E3</td>\n",
       "      <td>0.0</td>\n",
       "      <td>0.0</td>\n",
       "      <td></td>\n",
       "      <td></td>\n",
       "    </tr>\n",
       "    <tr>\n",
       "      <th>1</th>\n",
       "      <td>1</td>\n",
       "      <td>M</td>\n",
       "      <td>L</td>\n",
       "      <td>-1.297</td>\n",
       "      <td>0.107500</td>\n",
       "      <td>0.50</td>\n",
       "      <td>2</td>\n",
       "      <td>TIM1</td>\n",
       "      <td>E3</td>\n",
       "      <td>0.0</td>\n",
       "      <td>0.0</td>\n",
       "      <td></td>\n",
       "      <td></td>\n",
       "    </tr>\n",
       "    <tr>\n",
       "      <th>2</th>\n",
       "      <td>1</td>\n",
       "      <td>M</td>\n",
       "      <td>M</td>\n",
       "      <td>0.000</td>\n",
       "      <td>0.000000</td>\n",
       "      <td>NaN</td>\n",
       "      <td>4</td>\n",
       "      <td>TIM1</td>\n",
       "      <td>E3</td>\n",
       "      <td>0.0</td>\n",
       "      <td>0.0</td>\n",
       "      <td></td>\n",
       "      <td></td>\n",
       "    </tr>\n",
       "    <tr>\n",
       "      <th>3</th>\n",
       "      <td>1</td>\n",
       "      <td>M</td>\n",
       "      <td>T</td>\n",
       "      <td>-5.745</td>\n",
       "      <td>0.048300</td>\n",
       "      <td>5.00</td>\n",
       "      <td>4</td>\n",
       "      <td>TIM1</td>\n",
       "      <td>E3</td>\n",
       "      <td>0.0</td>\n",
       "      <td>0.0</td>\n",
       "      <td></td>\n",
       "      <td></td>\n",
       "    </tr>\n",
       "    <tr>\n",
       "      <th>4</th>\n",
       "      <td>1</td>\n",
       "      <td>M</td>\n",
       "      <td>V</td>\n",
       "      <td>-5.748</td>\n",
       "      <td>0.012020</td>\n",
       "      <td>1.50</td>\n",
       "      <td>2</td>\n",
       "      <td>TIM1</td>\n",
       "      <td>E3</td>\n",
       "      <td>0.0</td>\n",
       "      <td>0.0</td>\n",
       "      <td></td>\n",
       "      <td></td>\n",
       "    </tr>\n",
       "  </tbody>\n",
       "</table>\n",
       "</div>"
      ],
      "text/plain": [
       "   site wildtype mutant  effect  effect_std  times_seen  n_selections  \\\n",
       "0     1        M      I  -5.765    0.008958       17.25             4   \n",
       "1     1        M      L  -1.297    0.107500        0.50             2   \n",
       "2     1        M      M   0.000    0.000000         NaN             4   \n",
       "3     1        M      T  -5.745    0.048300        5.00             4   \n",
       "4     1        M      V  -5.748    0.012020        1.50             2   \n",
       "\n",
       "  condition region  immature_numbering  mature_numbering domain contacts  \n",
       "0      TIM1     E3                 0.0               0.0                  \n",
       "1      TIM1     E3                 0.0               0.0                  \n",
       "2      TIM1     E3                 0.0               0.0                  \n",
       "3      TIM1     E3                 0.0               0.0                  \n",
       "4      TIM1     E3                 0.0               0.0                  "
      ]
     },
     "execution_count": 119,
     "metadata": {},
     "output_type": "execute_result"
    }
   ],
   "source": [
    "# Combine all functional effects\n",
    "combined_func_effects = (\n",
    "    pd.concat([TIM1_func_effects, MXRA8_func_effects, C636_func_effects])\n",
    "    .merge(\n",
    "        CHIKV_E_annotations[['site', 'wildtype', 'region', 'immature_numbering', 'mature_numbering', 'domain', 'contacts']], \n",
    "        on=['site', 'wildtype'],\n",
    "        how='left'\n",
    "    )\n",
    ") \n",
    "combined_func_effects.head()"
   ]
  },
  {
   "cell_type": "code",
   "execution_count": 120,
   "metadata": {},
   "outputs": [],
   "source": [
    "# Write to file as input for dms-viz\n",
    "combined_func_effects.to_csv('./dms-viz/input/all_functional_effects.csv', index=False)\n",
    "for cell_line in ['TIM1', 'MXRA8', 'C636']:\n",
    "    combined_func_effects.query(f'condition == \"{cell_line}\"').to_csv(f'./dms-viz/input/{cell_line}_functional_effects.csv', index=False)"
   ]
  },
  {
   "cell_type": "markdown",
   "metadata": {},
   "source": [
    "Now, I'll take the functional selection data and calculate the difference between functional score across all combinations of cell types.\n",
    "\n",
    "**Note that I'm doing minimal filtering of the raw data. I'm removing observations with `times_seen <= 2` in either dataset and I'm removing stops and gaps `[\"*\", \"-\"]`.**"
   ]
  },
  {
   "cell_type": "code",
   "execution_count": 121,
   "metadata": {},
   "outputs": [
    {
     "name": "stdout",
     "output_type": "stream",
     "text": [
      "Missing data in least one condition for 28 sites\n"
     ]
    }
   ],
   "source": [
    "# Pivot the functional effects for each cell type\n",
    "functional_selection_difference = (\n",
    "    combined_func_effects\n",
    "    .query('mutant not in [\"*\", \"-\"]')\n",
    "    .query(f'times_seen > 2')\n",
    "    .pivot(index=['site', 'wildtype', 'mutant'], columns='condition', values='effect')\n",
    "    .rename_axis(None, axis=1)\n",
    "    .reset_index()\n",
    ")\n",
    "\n",
    "# Sites have missing data for some cell lines after filtering\n",
    "missing_data = len(functional_selection_difference[\n",
    "    functional_selection_difference.isna().any(axis=1)\n",
    "])\n",
    "print(f\"Missing data in least one condition for {missing_data} sites\")"
   ]
  },
  {
   "cell_type": "code",
   "execution_count": 122,
   "metadata": {},
   "outputs": [
    {
     "data": {
      "text/html": [
       "<div>\n",
       "<style scoped>\n",
       "    .dataframe tbody tr th:only-of-type {\n",
       "        vertical-align: middle;\n",
       "    }\n",
       "\n",
       "    .dataframe tbody tr th {\n",
       "        vertical-align: top;\n",
       "    }\n",
       "\n",
       "    .dataframe thead th {\n",
       "        text-align: right;\n",
       "    }\n",
       "</style>\n",
       "<table border=\"1\" class=\"dataframe\">\n",
       "  <thead>\n",
       "    <tr style=\"text-align: right;\">\n",
       "      <th></th>\n",
       "      <th>site</th>\n",
       "      <th>wildtype</th>\n",
       "      <th>mutant</th>\n",
       "      <th>comparison</th>\n",
       "      <th>difference</th>\n",
       "      <th>region</th>\n",
       "      <th>immature_numbering</th>\n",
       "      <th>mature_numbering</th>\n",
       "      <th>domain</th>\n",
       "      <th>contacts</th>\n",
       "    </tr>\n",
       "  </thead>\n",
       "  <tbody>\n",
       "    <tr>\n",
       "      <th>0</th>\n",
       "      <td>1</td>\n",
       "      <td>M</td>\n",
       "      <td>I</td>\n",
       "      <td>C636_v_MXRA8</td>\n",
       "      <td>0.0010</td>\n",
       "      <td>E3</td>\n",
       "      <td>0.0</td>\n",
       "      <td>0.0</td>\n",
       "      <td></td>\n",
       "      <td></td>\n",
       "    </tr>\n",
       "    <tr>\n",
       "      <th>1</th>\n",
       "      <td>1</td>\n",
       "      <td>M</td>\n",
       "      <td>T</td>\n",
       "      <td>C636_v_MXRA8</td>\n",
       "      <td>0.0430</td>\n",
       "      <td>E3</td>\n",
       "      <td>0.0</td>\n",
       "      <td>0.0</td>\n",
       "      <td></td>\n",
       "      <td></td>\n",
       "    </tr>\n",
       "    <tr>\n",
       "      <th>2</th>\n",
       "      <td>2</td>\n",
       "      <td>S</td>\n",
       "      <td>A</td>\n",
       "      <td>C636_v_MXRA8</td>\n",
       "      <td>0.0814</td>\n",
       "      <td>E3</td>\n",
       "      <td>1.0</td>\n",
       "      <td>1.0</td>\n",
       "      <td></td>\n",
       "      <td></td>\n",
       "    </tr>\n",
       "    <tr>\n",
       "      <th>3</th>\n",
       "      <td>2</td>\n",
       "      <td>S</td>\n",
       "      <td>C</td>\n",
       "      <td>C636_v_MXRA8</td>\n",
       "      <td>0.0958</td>\n",
       "      <td>E3</td>\n",
       "      <td>1.0</td>\n",
       "      <td>1.0</td>\n",
       "      <td></td>\n",
       "      <td></td>\n",
       "    </tr>\n",
       "    <tr>\n",
       "      <th>4</th>\n",
       "      <td>2</td>\n",
       "      <td>S</td>\n",
       "      <td>D</td>\n",
       "      <td>C636_v_MXRA8</td>\n",
       "      <td>0.3251</td>\n",
       "      <td>E3</td>\n",
       "      <td>1.0</td>\n",
       "      <td>1.0</td>\n",
       "      <td></td>\n",
       "      <td></td>\n",
       "    </tr>\n",
       "  </tbody>\n",
       "</table>\n",
       "</div>"
      ],
      "text/plain": [
       "   site wildtype mutant    comparison  difference region  immature_numbering  \\\n",
       "0     1        M      I  C636_v_MXRA8      0.0010     E3                 0.0   \n",
       "1     1        M      T  C636_v_MXRA8      0.0430     E3                 0.0   \n",
       "2     2        S      A  C636_v_MXRA8      0.0814     E3                 1.0   \n",
       "3     2        S      C  C636_v_MXRA8      0.0958     E3                 1.0   \n",
       "4     2        S      D  C636_v_MXRA8      0.3251     E3                 1.0   \n",
       "\n",
       "   mature_numbering domain contacts  \n",
       "0               0.0                  \n",
       "1               0.0                  \n",
       "2               1.0                  \n",
       "3               1.0                  \n",
       "4               1.0                  "
      ]
     },
     "execution_count": 122,
     "metadata": {},
     "output_type": "execute_result"
    }
   ],
   "source": [
    "# Get the condition columns (excluding 'site' and 'wildtype')\n",
    "condition_cols = [col for col in functional_selection_difference.columns \n",
    "                 if col not in ['site', 'wildtype', 'mutant']]\n",
    "\n",
    "# Calculate all pairwise differences\n",
    "for col1 in condition_cols:\n",
    "    for col2 in condition_cols:\n",
    "        if col1 != col2:\n",
    "            new_col_name = f\"{col1}_v_{col2}\"\n",
    "            functional_selection_difference[new_col_name] = (\n",
    "                functional_selection_difference[col1] - functional_selection_difference[col2]\n",
    "            )\n",
    "\n",
    "# Melt the comparisons into a long format\n",
    "functional_selection_difference = functional_selection_difference.melt(\n",
    "    id_vars=[\"site\", \"wildtype\", \"mutant\"],\n",
    "    value_vars=[\"C636_v_MXRA8\", \"C636_v_TIM1\", \"MXRA8_v_C636\", \"MXRA8_v_TIM1\", \"TIM1_v_C636\", \"TIM1_v_MXRA8\"],\n",
    "    var_name=\"comparison\",\n",
    "    value_name=\"difference\"\n",
    ")\n",
    "\n",
    "# Join the annotations back to the functional effect differences\n",
    "functional_selection_difference = (\n",
    "    functional_selection_difference\n",
    "    .merge(\n",
    "        CHIKV_E_annotations[['site', 'wildtype', 'region', 'immature_numbering', 'mature_numbering', 'domain', 'contacts']],\n",
    "        on=['site', 'wildtype'],\n",
    "        how='left'\n",
    "    )\n",
    ")\n",
    "functional_selection_difference.head()"
   ]
  },
  {
   "cell_type": "code",
   "execution_count": 123,
   "metadata": {},
   "outputs": [],
   "source": [
    "# Write to file\n",
    "functional_selection_difference.to_csv('./dms-viz/input/all_functional_selection_difference.csv', index=False)\n",
    "for comparison in [\"C636_v_MXRA8\", \"C636_v_TIM1\", \"MXRA8_v_C636\", \"MXRA8_v_TIM1\", \"TIM1_v_C636\", \"TIM1_v_MXRA8\"]:\n",
    "    functional_selection_difference.query(f'comparison == \"{comparison}\"').to_csv(f'./dms-viz/input/{comparison}_functional_selection_difference.csv', index=False)"
   ]
  },
  {
   "cell_type": "markdown",
   "metadata": {},
   "source": [
    "## Make `dms-viz` JSONs\n",
    "\n",
    "Now, I'll use `configure-dms-viz` to make the `dms-viz` JSON visualization specification files. The following cells will execute the `configure-dms-viz` command in the command line. Make sure you've got the [`dms-viz` conda environment](./dms-viz/environment.yml) set as the active 'kernel'."
   ]
  },
  {
   "cell_type": "markdown",
   "metadata": {},
   "source": [
    "### VLP Structures ([6NK6](https://www.rcsb.org/structure/6NK6))\n",
    "\n",
    "The **VLP doesn't retain the E3** subunit after it's cleaved by Furin, leading to a 1:1 binding mode with Mxra8 at 4 distinct sites within a single unit of the T=4 symmetry viral particle. Additionally, Mxra8 forms 3 distinct types of contact with E——wrapped, interspike, and intraspike. \n",
    "\n",
    "I'll use the ability of `dms-viz` to hide chains in order to illustrate each of these binding modes."
   ]
  },
  {
   "cell_type": "markdown",
   "metadata": {},
   "source": [
    "#### Wrapped"
   ]
  },
  {
   "cell_type": "code",
   "execution_count": 124,
   "metadata": {},
   "outputs": [],
   "source": [
    "# Make the wrapped version of the site map\n",
    "CHIKV_E_sitemap['chains'] = CHIKV_E_sitemap['region'].apply(\n",
    "    lambda region: \"E\" if region in [\"E3\", \"E2\"] else \"A\" if region in [\"E1\", \"6K\"] else None\n",
    ")\n",
    "CHIKV_E_sitemap.to_csv('./dms-viz/sitemap/CHIKV_sitemap_6NK6_wrapped.csv', index=False)"
   ]
  },
  {
   "cell_type": "code",
   "execution_count": 125,
   "metadata": {},
   "outputs": [
    {
     "name": "stdout",
     "output_type": "stream",
     "text": [
      "\u001b[32m\n",
      "Formatting data for visualization using the 'effect' column from './dms-viz/input/all_functional_effects.csv'...\u001b[0m\n",
      "\u001b[32m\n",
      "Using sitemap from './dms-viz/sitemap/CHIKV_sitemap_6NK6_wrapped.csv'.\u001b[0m\n",
      "\u001b[31mWarning: The 'times_seen' filter limit '0' is less than the minimum value of 0.25. Setting the min value to 0.25.\n",
      "\u001b[0m\n",
      "\u001b[33mAbout 94.64% (812 of 858) of the wildtype residues in the data match the corresponding residues in the structure.\u001b[0m\n",
      "\u001b[33mAbout 4.67% (42 of 900) of the data sites are missing from the structure.\u001b[0m\n",
      "\u001b[32m\n",
      "Success! The visualization JSON was written to './dms-viz/output/CHIKV_VLP_wrapped_monomer_functional_scores.json'\u001b[0m\n"
     ]
    }
   ],
   "source": [
    "!configure-dms-viz format \\\n",
    "    --input ./dms-viz/input/all_functional_effects.csv \\\n",
    "    --sitemap ./dms-viz/sitemap/CHIKV_sitemap_6NK6_wrapped.csv \\\n",
    "    --output ./dms-viz/output/CHIKV_VLP_wrapped_monomer_functional_scores.json \\\n",
    "    --name \"CHIKV Func. Scores\" \\\n",
    "    --metric \"effect\" \\\n",
    "    --metric-name \"Functional Effect\" \\\n",
    "    --exclude-amino-acids \"*, -\" \\\n",
    "    --included-chains \"A E\" \\\n",
    "    --excluded-chains \"M N P B C D F G H J K L\" \\\n",
    "    --condition \"condition\" \\\n",
    "    --condition-name \"Cell Line\" \\\n",
    "    --filter-cols \"{'n_selections': '# of Selections', 'times_seen': 'Times Seen'}\" \\\n",
    "    --filter-limits \"{'times_seen': [0, 2, 25]}\" \\\n",
    "    --structure \"6NK6\" \\\n",
    "    --colors \"#0072B2,#CC79A7,#4C3549\""
   ]
  },
  {
   "cell_type": "code",
   "execution_count": 126,
   "metadata": {},
   "outputs": [
    {
     "name": "stdout",
     "output_type": "stream",
     "text": [
      "\u001b[32m\n",
      "Formatting data for visualization using the 'difference' column from './dms-viz/input/all_functional_selection_difference.csv'...\u001b[0m\n",
      "\u001b[32m\n",
      "Using sitemap from './dms-viz/sitemap/CHIKV_sitemap_6NK6_wrapped.csv'.\u001b[0m\n",
      "\u001b[31m\n",
      "Warning: NaN values were found in the metric column. These rows will be filtered out.\u001b[0m\n",
      "\u001b[33mAbout 94.64% (812 of 858) of the wildtype residues in the data match the corresponding residues in the structure.\u001b[0m\n",
      "\u001b[33mAbout 4.67% (42 of 900) of the data sites are missing from the structure.\u001b[0m\n",
      "\u001b[32m\n",
      "Success! The visualization JSON was written to './dms-viz/output/CHIKV_VLP_wrapped_monomer_functional_differences.json'\u001b[0m\n"
     ]
    }
   ],
   "source": [
    "!configure-dms-viz format \\\n",
    "    --input ./dms-viz/input/all_functional_selection_difference.csv \\\n",
    "    --sitemap ./dms-viz/sitemap/CHIKV_sitemap_6NK6_wrapped.csv \\\n",
    "    --output ./dms-viz/output/CHIKV_VLP_wrapped_monomer_functional_differences.json \\\n",
    "    --name \"CHIKV Cell Entry Difference\" \\\n",
    "    --metric \"difference\" \\\n",
    "    --metric-name \"Effect Difference\" \\\n",
    "    --exclude-amino-acids \"*, -\" \\\n",
    "    --included-chains \"A E\" \\\n",
    "    --excluded-chains \"M N P B C D F G H J K L\" \\\n",
    "    --condition \"comparison\" \\\n",
    "    --condition-name \"Comparison (Left - Right)\" \\\n",
    "    --structure \"6NK6\" \\\n",
    "    --colors \"#0072B2,#CC79A7,#4C3549,#009E73,#E69F00,#56B4E9\""
   ]
  },
  {
   "cell_type": "markdown",
   "metadata": {},
   "source": [
    "#### Intraspike\n",
    "\n",
    "The wrapped sitemap works for this visualization. However, I'll show a the 'intraspike' Mxra8 by hiding the 'wrapped' Mxra8."
   ]
  },
  {
   "cell_type": "code",
   "execution_count": 127,
   "metadata": {},
   "outputs": [
    {
     "name": "stdout",
     "output_type": "stream",
     "text": [
      "\u001b[32m\n",
      "Formatting data for visualization using the 'effect' column from './dms-viz/input/all_functional_effects.csv'...\u001b[0m\n",
      "\u001b[32m\n",
      "Using sitemap from './dms-viz/sitemap/CHIKV_sitemap_6NK6_wrapped.csv'.\u001b[0m\n",
      "\u001b[31mWarning: The 'times_seen' filter limit '0' is less than the minimum value of 0.25. Setting the min value to 0.25.\n",
      "\u001b[0m\n",
      "\u001b[33mAbout 94.64% (812 of 858) of the wildtype residues in the data match the corresponding residues in the structure.\u001b[0m\n",
      "\u001b[33mAbout 4.67% (42 of 900) of the data sites are missing from the structure.\u001b[0m\n",
      "\u001b[32m\n",
      "Success! The visualization JSON was written to './dms-viz/output/CHIKV_VLP_intraspike_monomer_functional_scores.json'\u001b[0m\n"
     ]
    }
   ],
   "source": [
    "!configure-dms-viz format \\\n",
    "    --input ./dms-viz/input/all_functional_effects.csv \\\n",
    "    --sitemap ./dms-viz/sitemap/CHIKV_sitemap_6NK6_wrapped.csv \\\n",
    "    --output ./dms-viz/output/CHIKV_VLP_intraspike_monomer_functional_scores.json \\\n",
    "    --name \"CHIKV Func. Scores\" \\\n",
    "    --metric \"effect\" \\\n",
    "    --metric-name \"Functional Effect\" \\\n",
    "    --exclude-amino-acids \"*, -\" \\\n",
    "    --included-chains \"A E\" \\\n",
    "    --excluded-chains \"O N P B C D F G H J K L\" \\\n",
    "    --condition \"condition\" \\\n",
    "    --condition-name \"Cell Line\" \\\n",
    "    --filter-cols \"{'n_selections': '# of Selections', 'times_seen': 'Times Seen'}\" \\\n",
    "    --filter-limits \"{'times_seen': [0, 2, 25]}\" \\\n",
    "    --structure \"6NK6\" \\\n",
    "    --colors \"#0072B2,#CC79A7,#4C3549\""
   ]
  },
  {
   "cell_type": "code",
   "execution_count": 128,
   "metadata": {},
   "outputs": [
    {
     "name": "stdout",
     "output_type": "stream",
     "text": [
      "\u001b[32m\n",
      "Formatting data for visualization using the 'difference' column from './dms-viz/input/all_functional_selection_difference.csv'...\u001b[0m\n",
      "\u001b[32m\n",
      "Using sitemap from './dms-viz/sitemap/CHIKV_sitemap_6NK6_wrapped.csv'.\u001b[0m\n",
      "\u001b[31m\n",
      "Warning: NaN values were found in the metric column. These rows will be filtered out.\u001b[0m\n",
      "\u001b[33mAbout 94.64% (812 of 858) of the wildtype residues in the data match the corresponding residues in the structure.\u001b[0m\n",
      "\u001b[33mAbout 4.67% (42 of 900) of the data sites are missing from the structure.\u001b[0m\n",
      "\u001b[32m\n",
      "Success! The visualization JSON was written to './dms-viz/output/CHIKV_VLP_intraspike_monomer_functional_differences.json'\u001b[0m\n"
     ]
    }
   ],
   "source": [
    "!configure-dms-viz format \\\n",
    "    --input ./dms-viz/input/all_functional_selection_difference.csv \\\n",
    "    --sitemap ./dms-viz/sitemap/CHIKV_sitemap_6NK6_wrapped.csv \\\n",
    "    --output ./dms-viz/output/CHIKV_VLP_intraspike_monomer_functional_differences.json \\\n",
    "    --name \"CHIKV Cell Entry Difference\" \\\n",
    "    --metric \"difference\" \\\n",
    "    --metric-name \"Effect Difference\" \\\n",
    "    --exclude-amino-acids \"*, -\" \\\n",
    "    --included-chains \"A E\" \\\n",
    "    --excluded-chains \"O N P B C D F G H J K L\" \\\n",
    "    --condition \"comparison\" \\\n",
    "    --condition-name \"Comparison (Left - Right)\" \\\n",
    "    --structure \"6NK6\" \\\n",
    "    --colors \"#0072B2,#CC79A7,#4C3549,#009E73,#E69F00,#56B4E9\""
   ]
  },
  {
   "cell_type": "markdown",
   "metadata": {},
   "source": [
    "#### Interspike\n",
    "\n",
    "I'll need to make a new sitemap for this to show the data on the only heterodimer that makes 'interspike' contacts."
   ]
  },
  {
   "cell_type": "code",
   "execution_count": 129,
   "metadata": {},
   "outputs": [],
   "source": [
    "# Make the wrapped version of the site map\n",
    "CHIKV_E_sitemap['chains'] = CHIKV_E_sitemap['region'].apply(\n",
    "    lambda region: \"H\" if region in [\"E3\", \"E2\"] else \"D\" if region in [\"E1\", \"6K\"] else None\n",
    ")\n",
    "CHIKV_E_sitemap.to_csv('./dms-viz/sitemap/CHIKV_sitemap_6NK6_interspike.csv', index=False)"
   ]
  },
  {
   "cell_type": "code",
   "execution_count": 137,
   "metadata": {},
   "outputs": [
    {
     "name": "stdout",
     "output_type": "stream",
     "text": [
      "\u001b[32m\n",
      "Formatting data for visualization using the 'effect' column from './dms-viz/input/all_functional_effects.csv'...\u001b[0m\n",
      "\u001b[32m\n",
      "Using sitemap from './dms-viz/sitemap/CHIKV_sitemap_6NK6_interspike.csv'.\u001b[0m\n",
      "\u001b[31mWarning: The 'times_seen' filter limit '0' is less than the minimum value of 0.25. Setting the min value to 0.25.\n",
      "\u001b[0m\n",
      "\u001b[33mAbout 94.64% (812 of 858) of the wildtype residues in the data match the corresponding residues in the structure.\u001b[0m\n",
      "\u001b[33mAbout 4.67% (42 of 900) of the data sites are missing from the structure.\u001b[0m\n",
      "\u001b[32m\n",
      "Success! The visualization JSON was written to './dms-viz/output/CHIKV_VLP_interspike_monomer_functional_scores.json'\u001b[0m\n"
     ]
    }
   ],
   "source": [
    "!configure-dms-viz format \\\n",
    "    --input ./dms-viz/input/all_functional_effects.csv \\\n",
    "    --sitemap ./dms-viz/sitemap/CHIKV_sitemap_6NK6_interspike.csv \\\n",
    "    --output ./dms-viz/output/CHIKV_VLP_interspike_monomer_functional_scores.json \\\n",
    "    --name \"CHIKV Func. Scores\" \\\n",
    "    --metric \"effect\" \\\n",
    "    --metric-name \"Functional Effect\" \\\n",
    "    --exclude-amino-acids \"*, -\" \\\n",
    "    --included-chains \"D H\" \\\n",
    "    --excluded-chains \"M N P A B C E F G J K I\" \\\n",
    "    --condition \"condition\" \\\n",
    "    --condition-name \"Cell Line\" \\\n",
    "    --filter-cols \"{'n_selections': '# of Selections', 'times_seen': 'Times Seen'}\" \\\n",
    "    --filter-limits \"{'times_seen': [0, 2, 25]}\" \\\n",
    "    --structure \"6NK6\" \\\n",
    "    --colors \"#0072B2,#CC79A7,#4C3549\""
   ]
  },
  {
   "cell_type": "code",
   "execution_count": 138,
   "metadata": {},
   "outputs": [
    {
     "name": "stdout",
     "output_type": "stream",
     "text": [
      "\u001b[32m\n",
      "Formatting data for visualization using the 'difference' column from './dms-viz/input/all_functional_selection_difference.csv'...\u001b[0m\n",
      "\u001b[32m\n",
      "Using sitemap from './dms-viz/sitemap/CHIKV_sitemap_6NK6_interspike.csv'.\u001b[0m\n",
      "\u001b[31m\n",
      "Warning: NaN values were found in the metric column. These rows will be filtered out.\u001b[0m\n",
      "\u001b[33mAbout 94.64% (812 of 858) of the wildtype residues in the data match the corresponding residues in the structure.\u001b[0m\n",
      "\u001b[33mAbout 4.67% (42 of 900) of the data sites are missing from the structure.\u001b[0m\n",
      "\u001b[32m\n",
      "Success! The visualization JSON was written to './dms-viz/output/CHIKV_VLP_interspike_monomer_functional_differences.json'\u001b[0m\n"
     ]
    }
   ],
   "source": [
    "!configure-dms-viz format \\\n",
    "    --input ./dms-viz/input/all_functional_selection_difference.csv \\\n",
    "    --sitemap ./dms-viz/sitemap/CHIKV_sitemap_6NK6_interspike.csv \\\n",
    "    --output ./dms-viz/output/CHIKV_VLP_interspike_monomer_functional_differences.json \\\n",
    "    --name \"CHIKV Cell Entry Difference\" \\\n",
    "    --metric \"difference\" \\\n",
    "    --metric-name \"Effect Difference\" \\\n",
    "    --exclude-amino-acids \"*, -\" \\\n",
    "    --included-chains \"D H\" \\\n",
    "    --excluded-chains \"M N P A B C E F G J K I\" \\\n",
    "    --condition \"comparison\" \\\n",
    "    --condition-name \"Comparison (Left - Right)\" \\\n",
    "    --structure \"6NK6\" \\\n",
    "    --colors \"#0072B2,#CC79A7,#4C3549,#009E73,#E69F00,#56B4E9\""
   ]
  },
  {
   "cell_type": "markdown",
   "metadata": {},
   "source": [
    "#### Full Unit\n",
    "\n",
    "Finally, I'll plot the data on the full T=4 unit of the icosahedral particle. This will be useful for comparing with the infectious particle."
   ]
  },
  {
   "cell_type": "code",
   "execution_count": 132,
   "metadata": {},
   "outputs": [],
   "source": [
    "# Make the wrapped version of the site map\n",
    "CHIKV_E_sitemap['chains'] = CHIKV_E_sitemap['region'].apply(\n",
    "    lambda region: \"E F G H\" if region in [\"E3\", \"E2\"] else \"A B C D\" if region in [\"E1\", \"6K\"] else None\n",
    ")\n",
    "CHIKV_E_sitemap.to_csv('./dms-viz/sitemap/CHIKV_sitemap_6NK6_full.csv', index=False)"
   ]
  },
  {
   "cell_type": "code",
   "execution_count": 133,
   "metadata": {},
   "outputs": [
    {
     "name": "stdout",
     "output_type": "stream",
     "text": [
      "\u001b[32m\n",
      "Formatting data for visualization using the 'effect' column from './dms-viz/input/all_functional_effects.csv'...\u001b[0m\n",
      "\u001b[32m\n",
      "Using sitemap from './dms-viz/sitemap/CHIKV_sitemap_6NK6_full.csv'.\u001b[0m\n",
      "\u001b[31mWarning: The 'times_seen' filter limit '0' is less than the minimum value of 0.25. Setting the min value to 0.25.\n",
      "\u001b[0m\n",
      "\u001b[33mAbout 94.64% (812 of 858) of the wildtype residues in the data match the corresponding residues in the structure.\u001b[0m\n",
      "\u001b[33mAbout 4.67% (42 of 900) of the data sites are missing from the structure.\u001b[0m\n",
      "\u001b[32m\n",
      "Success! The visualization JSON was written to './dms-viz/output/CHIKV_VLP_full_functional_scores.json'\u001b[0m\n"
     ]
    }
   ],
   "source": [
    "!configure-dms-viz format \\\n",
    "    --input ./dms-viz/input/all_functional_effects.csv \\\n",
    "    --sitemap ./dms-viz/sitemap/CHIKV_sitemap_6NK6_full.csv \\\n",
    "    --output ./dms-viz/output/CHIKV_VLP_full_functional_scores.json \\\n",
    "    --name \"CHIKV Func. Scores\" \\\n",
    "    --metric \"effect\" \\\n",
    "    --metric-name \"Functional Effect\" \\\n",
    "    --exclude-amino-acids \"*, -\" \\\n",
    "    --included-chains \"A B C D E F G H\" \\\n",
    "    --condition \"condition\" \\\n",
    "    --condition-name \"Cell Line\" \\\n",
    "    --filter-cols \"{'n_selections': '# of Selections', 'times_seen': 'Times Seen'}\" \\\n",
    "    --filter-limits \"{'times_seen': [0, 2, 25]}\" \\\n",
    "    --structure \"6NK6\" \\\n",
    "    --colors \"#0072B2,#CC79A7,#4C3549\""
   ]
  },
  {
   "cell_type": "code",
   "execution_count": 134,
   "metadata": {},
   "outputs": [
    {
     "name": "stdout",
     "output_type": "stream",
     "text": [
      "\u001b[32m\n",
      "Formatting data for visualization using the 'difference' column from './dms-viz/input/all_functional_selection_difference.csv'...\u001b[0m\n",
      "\u001b[32m\n",
      "Using sitemap from './dms-viz/sitemap/CHIKV_sitemap_6NK6_full.csv'.\u001b[0m\n",
      "\u001b[31m\n",
      "Warning: NaN values were found in the metric column. These rows will be filtered out.\u001b[0m\n",
      "\u001b[33mAbout 94.64% (812 of 858) of the wildtype residues in the data match the corresponding residues in the structure.\u001b[0m\n",
      "\u001b[33mAbout 4.67% (42 of 900) of the data sites are missing from the structure.\u001b[0m\n",
      "\u001b[32m\n",
      "Success! The visualization JSON was written to './dms-viz/output/CHIKV_VLP_full_functional_differences.json'\u001b[0m\n"
     ]
    }
   ],
   "source": [
    "!configure-dms-viz format \\\n",
    "    --input ./dms-viz/input/all_functional_selection_difference.csv \\\n",
    "    --sitemap ./dms-viz/sitemap/CHIKV_sitemap_6NK6_full.csv \\\n",
    "    --output ./dms-viz/output/CHIKV_VLP_full_functional_differences.json \\\n",
    "    --name \"CHIKV Cell Entry Difference\" \\\n",
    "    --metric \"difference\" \\\n",
    "    --metric-name \"Effect Difference\" \\\n",
    "    --exclude-amino-acids \"*, -\" \\\n",
    "    --included-chains \"A B C D E F G H\" \\\n",
    "    --condition \"comparison\" \\\n",
    "    --condition-name \"Comparison (Left - Right)\" \\\n",
    "    --structure \"6NK6\" \\\n",
    "    --colors \"#0072B2,#CC79A7,#4C3549,#009E73,#E69F00,#56B4E9\""
   ]
  },
  {
   "cell_type": "markdown",
   "metadata": {},
   "source": [
    "## Infection Particles\n",
    "\n",
    "We also want to understand the effect of E3 retention on Mxra8 binding. We can do this by comparing between the VLP particle (no E3) and the Infectious particle (has E3). E3 retention after cleavage by Furin occludes 3/4 binding site on the E trimer.\n",
    "\n",
    "The chains labels for E1 and E2 are the same between the VLP structure and the Infectious particle structure, so we can use the same sitemap. However, we'll change the structure from 6NK6 to 6NK7."
   ]
  },
  {
   "cell_type": "code",
   "execution_count": 135,
   "metadata": {},
   "outputs": [
    {
     "name": "stdout",
     "output_type": "stream",
     "text": [
      "\u001b[32m\n",
      "Formatting data for visualization using the 'effect' column from './dms-viz/input/all_functional_effects.csv'...\u001b[0m\n",
      "\u001b[32m\n",
      "Using sitemap from './dms-viz/sitemap/CHIKV_sitemap_6NK6_full.csv'.\u001b[0m\n",
      "\u001b[31mWarning: The 'times_seen' filter limit '0' is less than the minimum value of 0.25. Setting the min value to 0.25.\n",
      "\u001b[0m\n",
      "\u001b[33mAbout 100.00% (858 of 858) of the wildtype residues in the data match the corresponding residues in the structure.\u001b[0m\n",
      "\u001b[33mAbout 4.67% (42 of 900) of the data sites are missing from the structure.\u001b[0m\n",
      "\u001b[32m\n",
      "Success! The visualization JSON was written to './dms-viz/output/CHIKV_infectious_full_functional_scores.json'\u001b[0m\n"
     ]
    }
   ],
   "source": [
    "!configure-dms-viz format \\\n",
    "    --input ./dms-viz/input/all_functional_effects.csv \\\n",
    "    --sitemap ./dms-viz/sitemap/CHIKV_sitemap_6NK6_full.csv \\\n",
    "    --output ./dms-viz/output/CHIKV_infectious_full_functional_scores.json \\\n",
    "    --name \"CHIKV Func. Scores\" \\\n",
    "    --metric \"effect\" \\\n",
    "    --metric-name \"Functional Effect\" \\\n",
    "    --exclude-amino-acids \"*, -\" \\\n",
    "    --included-chains \"A B C D E F G H\" \\\n",
    "    --condition \"condition\" \\\n",
    "    --condition-name \"Cell Line\" \\\n",
    "    --filter-cols \"{'n_selections': '# of Selections', 'times_seen': 'Times Seen'}\" \\\n",
    "    --filter-limits \"{'times_seen': [0, 2, 25]}\" \\\n",
    "    --structure \"6NK7\" \\\n",
    "    --colors \"#0072B2,#CC79A7,#4C3549\""
   ]
  },
  {
   "cell_type": "code",
   "execution_count": 136,
   "metadata": {},
   "outputs": [
    {
     "name": "stdout",
     "output_type": "stream",
     "text": [
      "\u001b[32m\n",
      "Formatting data for visualization using the 'difference' column from './dms-viz/input/all_functional_selection_difference.csv'...\u001b[0m\n",
      "\u001b[32m\n",
      "Using sitemap from './dms-viz/sitemap/CHIKV_sitemap_6NK6_full.csv'.\u001b[0m\n",
      "\u001b[31m\n",
      "Warning: NaN values were found in the metric column. These rows will be filtered out.\u001b[0m\n",
      "\u001b[33mAbout 100.00% (858 of 858) of the wildtype residues in the data match the corresponding residues in the structure.\u001b[0m\n",
      "\u001b[33mAbout 4.67% (42 of 900) of the data sites are missing from the structure.\u001b[0m\n",
      "\u001b[32m\n",
      "Success! The visualization JSON was written to './dms-viz/output/CHIKV_infectious_full_functional_differences.json'\u001b[0m\n"
     ]
    }
   ],
   "source": [
    "!configure-dms-viz format \\\n",
    "    --input ./dms-viz/input/all_functional_selection_difference.csv \\\n",
    "    --sitemap ./dms-viz/sitemap/CHIKV_sitemap_6NK6_full.csv \\\n",
    "    --output ./dms-viz/output/CHIKV_infectious_full_functional_differences.json \\\n",
    "    --name \"CHIKV Cell Entry Difference\" \\\n",
    "    --metric \"difference\" \\\n",
    "    --metric-name \"Effect Difference\" \\\n",
    "    --exclude-amino-acids \"*, -\" \\\n",
    "    --included-chains \"A B C D E F G H\" \\\n",
    "    --condition \"comparison\" \\\n",
    "    --condition-name \"Comparison (Left - Right)\" \\\n",
    "    --structure \"6NK7\" \\\n",
    "    --colors \"#0072B2,#CC79A7,#4C3549,#009E73,#E69F00,#56B4E9\""
   ]
  }
 ],
 "metadata": {
  "kernelspec": {
   "display_name": "dms-vep-pipeline-3",
   "language": "python",
   "name": "python3"
  },
  "language_info": {
   "codemirror_mode": {
    "name": "ipython",
    "version": 3
   },
   "file_extension": ".py",
   "mimetype": "text/x-python",
   "name": "python",
   "nbconvert_exporter": "python",
   "pygments_lexer": "ipython3",
   "version": "3.13.0"
  }
 },
 "nbformat": 4,
 "nbformat_minor": 2
}
